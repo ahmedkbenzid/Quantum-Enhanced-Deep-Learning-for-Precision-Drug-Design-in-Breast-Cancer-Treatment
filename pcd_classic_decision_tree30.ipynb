{
  "nbformat": 4,
  "nbformat_minor": 0,
  "metadata": {
    "colab": {
      "provenance": [],
      "collapsed_sections": [
        "NCfhqpPpjNPL",
        "_jEiz2j1i0zp",
        "bB5-SwmBiiWF",
        "BjYj7GdAjFGj",
        "z3RqlVhxjVEm",
        "S9jcqUZejdfW",
        "NTimfUrzjpDr",
        "g80fqbG3j9d5"
      ],
      "toc_visible": true,
      "include_colab_link": true
    },
    "kernelspec": {
      "name": "python3",
      "display_name": "Python 3"
    },
    "language_info": {
      "name": "python"
    }
  },
  "cells": [
    {
      "cell_type": "markdown",
      "metadata": {
        "id": "view-in-github",
        "colab_type": "text"
      },
      "source": [
        "<a href=\"https://colab.research.google.com/github/meryamhzamiensi/Quantum-Enhanced-Deep-Learning-for-Precision-Drug-Design-in-Breast-Cancer-Treatment/blob/ML-models/pcd_classic_decision_tree30.ipynb\" target=\"_parent\"><img src=\"https://colab.research.google.com/assets/colab-badge.svg\" alt=\"Open In Colab\"/></a>"
      ]
    },
    {
      "cell_type": "markdown",
      "source": [
        "# Memory and time count"
      ],
      "metadata": {
        "id": "_jEiz2j1i0zp"
      }
    },
    {
      "cell_type": "code",
      "source": [
        "def track_memory_usage():\n",
        "    \"\"\"\n",
        "    Track memory usage of the current process\n",
        "\n",
        "    Returns:\n",
        "    dict: Memory usage statistics\n",
        "    \"\"\"\n",
        "    process = psutil.Process(os.getpid())\n",
        "    memory_info = process.memory_info()\n",
        "\n",
        "    return {\n",
        "        'rss_mb': memory_info.rss / (1024 * 1024),  # Resident Set Size in MB\n",
        "        'vms_mb': memory_info.vms / (1024 * 1024),  # Virtual Memory Size in MB\n",
        "    }"
      ],
      "metadata": {
        "id": "LILn0DrKzeWo"
      },
      "execution_count": null,
      "outputs": []
    },
    {
      "cell_type": "code",
      "source": [
        "def calculate_detailed_errors(y_test, y_pred):\n",
        "    \"\"\"\n",
        "    Calculate detailed error metrics\n",
        "\n",
        "    Parameters:\n",
        "    y_test (array): True labels\n",
        "    y_pred (array): Predicted labels\n",
        "\n",
        "    Returns:\n",
        "    dict: Error analysis metrics\n",
        "    \"\"\"\n",
        "    # Convert encoded labels back to drug names\n",
        "    y_test_names = y_test\n",
        "    y_pred_names = y_pred\n",
        "\n",
        "    # Confusion matrix\n",
        "    conf_matrix = confusion_matrix(y_test_names, y_pred_names)\n",
        "\n",
        "    # Detailed error analysis\n",
        "    error_analysis = {\n",
        "        'total_samples': len(y_test),\n",
        "        'misclassified_samples': np.sum(y_test != y_pred),\n",
        "        'misclassification_rate': 1 - accuracy_score(y_test, y_pred),\n",
        "        'confusion_matrix': conf_matrix\n",
        "    }\n",
        "\n",
        "    # Per-drug error analysis\n",
        "    drug_error_details = {}\n",
        "    unique_drugs = np.unique(y_test_names)\n",
        "\n",
        "    for drug in unique_drugs:\n",
        "        drug_mask = (y_test_names == drug)\n",
        "        drug_true = y_test_names[drug_mask]\n",
        "        drug_pred = y_pred_names[drug_mask]\n",
        "\n",
        "        drug_error_details[drug] = {\n",
        "            'total_samples': len(drug_true),\n",
        "            'correct_predictions': np.sum(drug_true == drug_pred),\n",
        "            'incorrect_predictions': np.sum(drug_true != drug_pred),\n",
        "            'accuracy': accuracy_score(drug_true, drug_pred)\n",
        "        }\n",
        "\n",
        "    error_analysis['per_drug_details'] = drug_error_details\n",
        "\n",
        "    return error_analysis"
      ],
      "metadata": {
        "id": "oYdVd1Q7zk5R"
      },
      "execution_count": null,
      "outputs": []
    },
    {
      "cell_type": "code",
      "source": [
        "# Start memory tracking\n",
        "tracemalloc.start()"
      ],
      "metadata": {
        "id": "_JulAM_-3K7Y"
      },
      "execution_count": null,
      "outputs": []
    },
    {
      "cell_type": "markdown",
      "source": [
        "# Load Dataset"
      ],
      "metadata": {
        "id": "bB5-SwmBiiWF"
      }
    },
    {
      "cell_type": "code",
      "source": [
        "# Load the dataset\n",
        "data = pd.read_csv('/content/GDSC_DATASET.csv')"
      ],
      "metadata": {
        "id": "CJi7yL4v3MSN"
      },
      "execution_count": null,
      "outputs": []
    },
    {
      "cell_type": "code",
      "source": [
        "# Initial memory snapshot\n",
        "initial_memory = track_memory_usage()\n",
        "print(\"Initial Memory Usage:\")\n",
        "print(f\"RSS: {initial_memory['rss_mb']:.2f} MB\")\n",
        "print(f\"VMS: {initial_memory['vms_mb']:.2f} MB\")"
      ],
      "metadata": {
        "colab": {
          "base_uri": "https://localhost:8080/"
        },
        "id": "Rtu-RGe83Wsa",
        "outputId": "e3beaac3-4cf5-45bd-f4ba-24bb88f67eeb"
      },
      "execution_count": null,
      "outputs": [
        {
          "output_type": "stream",
          "name": "stdout",
          "text": [
            "Initial Memory Usage:\n",
            "RSS: 566.88 MB\n",
            "VMS: 1954.91 MB\n"
          ]
        }
      ]
    },
    {
      "cell_type": "markdown",
      "source": [
        "# Pre-processing"
      ],
      "metadata": {
        "id": "BjYj7GdAjFGj"
      }
    },
    {
      "cell_type": "code",
      "source": [
        "# Filter for breast cancer\n",
        "breast_cancer_data = data[data['Cancer Type (matching TCGA label)'] == 'BRCA']\n",
        "breast_cancer_data.drop(['COSMIC_ID','CELL_LINE_NAME','TCGA_DESC','GDSC Tissue descriptor 1','GDSC Tissue descriptor 2','Cancer Type (matching TCGA label)'],axis=1)"
      ],
      "metadata": {
        "id": "XROYp-9N396S",
        "colab": {
          "base_uri": "https://localhost:8080/",
          "height": 565
        },
        "outputId": "c2df8920-f2f3-44f8-e091-f43a7a22998a"
      },
      "execution_count": null,
      "outputs": [
        {
          "output_type": "execute_result",
          "data": {
            "text/plain": [
              "        DRUG_ID          DRUG_NAME    LN_IC50       AUC   Z_SCORE  \\\n",
              "91         1003       Camptothecin   0.317741  0.983262  1.403164   \n",
              "92         1003       Camptothecin   0.636184  0.969050  1.576546   \n",
              "93         1003       Camptothecin   1.235544  0.992326  1.902878   \n",
              "94         1003       Camptothecin  -2.255899  0.861208  0.001898   \n",
              "95         1003       Camptothecin  -3.247021  0.768404 -0.537737   \n",
              "...         ...                ...        ...       ...       ...   \n",
              "241919     2499  N-acetyl cysteine  11.217375  0.984904  1.411075   \n",
              "241928     2499  N-acetyl cysteine   9.653037  0.923493 -0.388438   \n",
              "241930     2499  N-acetyl cysteine  10.939549  0.980068  1.091482   \n",
              "241941     2499  N-acetyl cysteine   9.100781  0.954554 -1.023718   \n",
              "241978     2499  N-acetyl cysteine  10.235080  0.983283  0.281106   \n",
              "\n",
              "       Microsatellite instability Status (MSI) Screen Medium  \\\n",
              "91                                   MSS/MSI-L             R   \n",
              "92                                   MSS/MSI-L             R   \n",
              "93                                   MSS/MSI-L             R   \n",
              "94                                   MSS/MSI-L             R   \n",
              "95                                   MSS/MSI-L             R   \n",
              "...                                        ...           ...   \n",
              "241919                               MSS/MSI-L             R   \n",
              "241928                               MSS/MSI-L             R   \n",
              "241930                               MSS/MSI-L         D/F12   \n",
              "241941                                     NaN         D/F12   \n",
              "241978                               MSS/MSI-L             R   \n",
              "\n",
              "       Growth Properties CNA Gene Expression Methylation      TARGET  \\\n",
              "91              Adherent   Y               Y           Y        TOP1   \n",
              "92              Adherent   Y               Y           Y        TOP1   \n",
              "93            Suspension   Y               Y           Y        TOP1   \n",
              "94              Adherent   Y               Y           Y        TOP1   \n",
              "95            Suspension   Y               Y           Y        TOP1   \n",
              "...                  ...  ..             ...         ...         ...   \n",
              "241919          Adherent   Y               Y           Y  Metabolism   \n",
              "241928          Adherent   Y               Y           Y  Metabolism   \n",
              "241930          Adherent   Y               Y           Y  Metabolism   \n",
              "241941          Adherent   Y               Y           N  Metabolism   \n",
              "241978          Adherent   Y               Y           Y  Metabolism   \n",
              "\n",
              "         TARGET_PATHWAY  \n",
              "91      DNA replication  \n",
              "92      DNA replication  \n",
              "93      DNA replication  \n",
              "94      DNA replication  \n",
              "95      DNA replication  \n",
              "...                 ...  \n",
              "241919       Metabolism  \n",
              "241928       Metabolism  \n",
              "241930       Metabolism  \n",
              "241941       Metabolism  \n",
              "241978       Metabolism  \n",
              "\n",
              "[13106 rows x 13 columns]"
            ],
            "text/html": [
              "\n",
              "  <div id=\"df-56ef7784-5034-467a-9723-79ec708852ac\" class=\"colab-df-container\">\n",
              "    <div>\n",
              "<style scoped>\n",
              "    .dataframe tbody tr th:only-of-type {\n",
              "        vertical-align: middle;\n",
              "    }\n",
              "\n",
              "    .dataframe tbody tr th {\n",
              "        vertical-align: top;\n",
              "    }\n",
              "\n",
              "    .dataframe thead th {\n",
              "        text-align: right;\n",
              "    }\n",
              "</style>\n",
              "<table border=\"1\" class=\"dataframe\">\n",
              "  <thead>\n",
              "    <tr style=\"text-align: right;\">\n",
              "      <th></th>\n",
              "      <th>DRUG_ID</th>\n",
              "      <th>DRUG_NAME</th>\n",
              "      <th>LN_IC50</th>\n",
              "      <th>AUC</th>\n",
              "      <th>Z_SCORE</th>\n",
              "      <th>Microsatellite instability Status (MSI)</th>\n",
              "      <th>Screen Medium</th>\n",
              "      <th>Growth Properties</th>\n",
              "      <th>CNA</th>\n",
              "      <th>Gene Expression</th>\n",
              "      <th>Methylation</th>\n",
              "      <th>TARGET</th>\n",
              "      <th>TARGET_PATHWAY</th>\n",
              "    </tr>\n",
              "  </thead>\n",
              "  <tbody>\n",
              "    <tr>\n",
              "      <th>91</th>\n",
              "      <td>1003</td>\n",
              "      <td>Camptothecin</td>\n",
              "      <td>0.317741</td>\n",
              "      <td>0.983262</td>\n",
              "      <td>1.403164</td>\n",
              "      <td>MSS/MSI-L</td>\n",
              "      <td>R</td>\n",
              "      <td>Adherent</td>\n",
              "      <td>Y</td>\n",
              "      <td>Y</td>\n",
              "      <td>Y</td>\n",
              "      <td>TOP1</td>\n",
              "      <td>DNA replication</td>\n",
              "    </tr>\n",
              "    <tr>\n",
              "      <th>92</th>\n",
              "      <td>1003</td>\n",
              "      <td>Camptothecin</td>\n",
              "      <td>0.636184</td>\n",
              "      <td>0.969050</td>\n",
              "      <td>1.576546</td>\n",
              "      <td>MSS/MSI-L</td>\n",
              "      <td>R</td>\n",
              "      <td>Adherent</td>\n",
              "      <td>Y</td>\n",
              "      <td>Y</td>\n",
              "      <td>Y</td>\n",
              "      <td>TOP1</td>\n",
              "      <td>DNA replication</td>\n",
              "    </tr>\n",
              "    <tr>\n",
              "      <th>93</th>\n",
              "      <td>1003</td>\n",
              "      <td>Camptothecin</td>\n",
              "      <td>1.235544</td>\n",
              "      <td>0.992326</td>\n",
              "      <td>1.902878</td>\n",
              "      <td>MSS/MSI-L</td>\n",
              "      <td>R</td>\n",
              "      <td>Suspension</td>\n",
              "      <td>Y</td>\n",
              "      <td>Y</td>\n",
              "      <td>Y</td>\n",
              "      <td>TOP1</td>\n",
              "      <td>DNA replication</td>\n",
              "    </tr>\n",
              "    <tr>\n",
              "      <th>94</th>\n",
              "      <td>1003</td>\n",
              "      <td>Camptothecin</td>\n",
              "      <td>-2.255899</td>\n",
              "      <td>0.861208</td>\n",
              "      <td>0.001898</td>\n",
              "      <td>MSS/MSI-L</td>\n",
              "      <td>R</td>\n",
              "      <td>Adherent</td>\n",
              "      <td>Y</td>\n",
              "      <td>Y</td>\n",
              "      <td>Y</td>\n",
              "      <td>TOP1</td>\n",
              "      <td>DNA replication</td>\n",
              "    </tr>\n",
              "    <tr>\n",
              "      <th>95</th>\n",
              "      <td>1003</td>\n",
              "      <td>Camptothecin</td>\n",
              "      <td>-3.247021</td>\n",
              "      <td>0.768404</td>\n",
              "      <td>-0.537737</td>\n",
              "      <td>MSS/MSI-L</td>\n",
              "      <td>R</td>\n",
              "      <td>Suspension</td>\n",
              "      <td>Y</td>\n",
              "      <td>Y</td>\n",
              "      <td>Y</td>\n",
              "      <td>TOP1</td>\n",
              "      <td>DNA replication</td>\n",
              "    </tr>\n",
              "    <tr>\n",
              "      <th>...</th>\n",
              "      <td>...</td>\n",
              "      <td>...</td>\n",
              "      <td>...</td>\n",
              "      <td>...</td>\n",
              "      <td>...</td>\n",
              "      <td>...</td>\n",
              "      <td>...</td>\n",
              "      <td>...</td>\n",
              "      <td>...</td>\n",
              "      <td>...</td>\n",
              "      <td>...</td>\n",
              "      <td>...</td>\n",
              "      <td>...</td>\n",
              "    </tr>\n",
              "    <tr>\n",
              "      <th>241919</th>\n",
              "      <td>2499</td>\n",
              "      <td>N-acetyl cysteine</td>\n",
              "      <td>11.217375</td>\n",
              "      <td>0.984904</td>\n",
              "      <td>1.411075</td>\n",
              "      <td>MSS/MSI-L</td>\n",
              "      <td>R</td>\n",
              "      <td>Adherent</td>\n",
              "      <td>Y</td>\n",
              "      <td>Y</td>\n",
              "      <td>Y</td>\n",
              "      <td>Metabolism</td>\n",
              "      <td>Metabolism</td>\n",
              "    </tr>\n",
              "    <tr>\n",
              "      <th>241928</th>\n",
              "      <td>2499</td>\n",
              "      <td>N-acetyl cysteine</td>\n",
              "      <td>9.653037</td>\n",
              "      <td>0.923493</td>\n",
              "      <td>-0.388438</td>\n",
              "      <td>MSS/MSI-L</td>\n",
              "      <td>R</td>\n",
              "      <td>Adherent</td>\n",
              "      <td>Y</td>\n",
              "      <td>Y</td>\n",
              "      <td>Y</td>\n",
              "      <td>Metabolism</td>\n",
              "      <td>Metabolism</td>\n",
              "    </tr>\n",
              "    <tr>\n",
              "      <th>241930</th>\n",
              "      <td>2499</td>\n",
              "      <td>N-acetyl cysteine</td>\n",
              "      <td>10.939549</td>\n",
              "      <td>0.980068</td>\n",
              "      <td>1.091482</td>\n",
              "      <td>MSS/MSI-L</td>\n",
              "      <td>D/F12</td>\n",
              "      <td>Adherent</td>\n",
              "      <td>Y</td>\n",
              "      <td>Y</td>\n",
              "      <td>Y</td>\n",
              "      <td>Metabolism</td>\n",
              "      <td>Metabolism</td>\n",
              "    </tr>\n",
              "    <tr>\n",
              "      <th>241941</th>\n",
              "      <td>2499</td>\n",
              "      <td>N-acetyl cysteine</td>\n",
              "      <td>9.100781</td>\n",
              "      <td>0.954554</td>\n",
              "      <td>-1.023718</td>\n",
              "      <td>NaN</td>\n",
              "      <td>D/F12</td>\n",
              "      <td>Adherent</td>\n",
              "      <td>Y</td>\n",
              "      <td>Y</td>\n",
              "      <td>N</td>\n",
              "      <td>Metabolism</td>\n",
              "      <td>Metabolism</td>\n",
              "    </tr>\n",
              "    <tr>\n",
              "      <th>241978</th>\n",
              "      <td>2499</td>\n",
              "      <td>N-acetyl cysteine</td>\n",
              "      <td>10.235080</td>\n",
              "      <td>0.983283</td>\n",
              "      <td>0.281106</td>\n",
              "      <td>MSS/MSI-L</td>\n",
              "      <td>R</td>\n",
              "      <td>Adherent</td>\n",
              "      <td>Y</td>\n",
              "      <td>Y</td>\n",
              "      <td>Y</td>\n",
              "      <td>Metabolism</td>\n",
              "      <td>Metabolism</td>\n",
              "    </tr>\n",
              "  </tbody>\n",
              "</table>\n",
              "<p>13106 rows × 13 columns</p>\n",
              "</div>\n",
              "    <div class=\"colab-df-buttons\">\n",
              "\n",
              "  <div class=\"colab-df-container\">\n",
              "    <button class=\"colab-df-convert\" onclick=\"convertToInteractive('df-56ef7784-5034-467a-9723-79ec708852ac')\"\n",
              "            title=\"Convert this dataframe to an interactive table.\"\n",
              "            style=\"display:none;\">\n",
              "\n",
              "  <svg xmlns=\"http://www.w3.org/2000/svg\" height=\"24px\" viewBox=\"0 -960 960 960\">\n",
              "    <path d=\"M120-120v-720h720v720H120Zm60-500h600v-160H180v160Zm220 220h160v-160H400v160Zm0 220h160v-160H400v160ZM180-400h160v-160H180v160Zm440 0h160v-160H620v160ZM180-180h160v-160H180v160Zm440 0h160v-160H620v160Z\"/>\n",
              "  </svg>\n",
              "    </button>\n",
              "\n",
              "  <style>\n",
              "    .colab-df-container {\n",
              "      display:flex;\n",
              "      gap: 12px;\n",
              "    }\n",
              "\n",
              "    .colab-df-convert {\n",
              "      background-color: #E8F0FE;\n",
              "      border: none;\n",
              "      border-radius: 50%;\n",
              "      cursor: pointer;\n",
              "      display: none;\n",
              "      fill: #1967D2;\n",
              "      height: 32px;\n",
              "      padding: 0 0 0 0;\n",
              "      width: 32px;\n",
              "    }\n",
              "\n",
              "    .colab-df-convert:hover {\n",
              "      background-color: #E2EBFA;\n",
              "      box-shadow: 0px 1px 2px rgba(60, 64, 67, 0.3), 0px 1px 3px 1px rgba(60, 64, 67, 0.15);\n",
              "      fill: #174EA6;\n",
              "    }\n",
              "\n",
              "    .colab-df-buttons div {\n",
              "      margin-bottom: 4px;\n",
              "    }\n",
              "\n",
              "    [theme=dark] .colab-df-convert {\n",
              "      background-color: #3B4455;\n",
              "      fill: #D2E3FC;\n",
              "    }\n",
              "\n",
              "    [theme=dark] .colab-df-convert:hover {\n",
              "      background-color: #434B5C;\n",
              "      box-shadow: 0px 1px 3px 1px rgba(0, 0, 0, 0.15);\n",
              "      filter: drop-shadow(0px 1px 2px rgba(0, 0, 0, 0.3));\n",
              "      fill: #FFFFFF;\n",
              "    }\n",
              "  </style>\n",
              "\n",
              "    <script>\n",
              "      const buttonEl =\n",
              "        document.querySelector('#df-56ef7784-5034-467a-9723-79ec708852ac button.colab-df-convert');\n",
              "      buttonEl.style.display =\n",
              "        google.colab.kernel.accessAllowed ? 'block' : 'none';\n",
              "\n",
              "      async function convertToInteractive(key) {\n",
              "        const element = document.querySelector('#df-56ef7784-5034-467a-9723-79ec708852ac');\n",
              "        const dataTable =\n",
              "          await google.colab.kernel.invokeFunction('convertToInteractive',\n",
              "                                                    [key], {});\n",
              "        if (!dataTable) return;\n",
              "\n",
              "        const docLinkHtml = 'Like what you see? Visit the ' +\n",
              "          '<a target=\"_blank\" href=https://colab.research.google.com/notebooks/data_table.ipynb>data table notebook</a>'\n",
              "          + ' to learn more about interactive tables.';\n",
              "        element.innerHTML = '';\n",
              "        dataTable['output_type'] = 'display_data';\n",
              "        await google.colab.output.renderOutput(dataTable, element);\n",
              "        const docLink = document.createElement('div');\n",
              "        docLink.innerHTML = docLinkHtml;\n",
              "        element.appendChild(docLink);\n",
              "      }\n",
              "    </script>\n",
              "  </div>\n",
              "\n",
              "\n",
              "<div id=\"df-83aeb38b-778a-4516-ae13-45c786a6f33f\">\n",
              "  <button class=\"colab-df-quickchart\" onclick=\"quickchart('df-83aeb38b-778a-4516-ae13-45c786a6f33f')\"\n",
              "            title=\"Suggest charts\"\n",
              "            style=\"display:none;\">\n",
              "\n",
              "<svg xmlns=\"http://www.w3.org/2000/svg\" height=\"24px\"viewBox=\"0 0 24 24\"\n",
              "     width=\"24px\">\n",
              "    <g>\n",
              "        <path d=\"M19 3H5c-1.1 0-2 .9-2 2v14c0 1.1.9 2 2 2h14c1.1 0 2-.9 2-2V5c0-1.1-.9-2-2-2zM9 17H7v-7h2v7zm4 0h-2V7h2v10zm4 0h-2v-4h2v4z\"/>\n",
              "    </g>\n",
              "</svg>\n",
              "  </button>\n",
              "\n",
              "<style>\n",
              "  .colab-df-quickchart {\n",
              "      --bg-color: #E8F0FE;\n",
              "      --fill-color: #1967D2;\n",
              "      --hover-bg-color: #E2EBFA;\n",
              "      --hover-fill-color: #174EA6;\n",
              "      --disabled-fill-color: #AAA;\n",
              "      --disabled-bg-color: #DDD;\n",
              "  }\n",
              "\n",
              "  [theme=dark] .colab-df-quickchart {\n",
              "      --bg-color: #3B4455;\n",
              "      --fill-color: #D2E3FC;\n",
              "      --hover-bg-color: #434B5C;\n",
              "      --hover-fill-color: #FFFFFF;\n",
              "      --disabled-bg-color: #3B4455;\n",
              "      --disabled-fill-color: #666;\n",
              "  }\n",
              "\n",
              "  .colab-df-quickchart {\n",
              "    background-color: var(--bg-color);\n",
              "    border: none;\n",
              "    border-radius: 50%;\n",
              "    cursor: pointer;\n",
              "    display: none;\n",
              "    fill: var(--fill-color);\n",
              "    height: 32px;\n",
              "    padding: 0;\n",
              "    width: 32px;\n",
              "  }\n",
              "\n",
              "  .colab-df-quickchart:hover {\n",
              "    background-color: var(--hover-bg-color);\n",
              "    box-shadow: 0 1px 2px rgba(60, 64, 67, 0.3), 0 1px 3px 1px rgba(60, 64, 67, 0.15);\n",
              "    fill: var(--button-hover-fill-color);\n",
              "  }\n",
              "\n",
              "  .colab-df-quickchart-complete:disabled,\n",
              "  .colab-df-quickchart-complete:disabled:hover {\n",
              "    background-color: var(--disabled-bg-color);\n",
              "    fill: var(--disabled-fill-color);\n",
              "    box-shadow: none;\n",
              "  }\n",
              "\n",
              "  .colab-df-spinner {\n",
              "    border: 2px solid var(--fill-color);\n",
              "    border-color: transparent;\n",
              "    border-bottom-color: var(--fill-color);\n",
              "    animation:\n",
              "      spin 1s steps(1) infinite;\n",
              "  }\n",
              "\n",
              "  @keyframes spin {\n",
              "    0% {\n",
              "      border-color: transparent;\n",
              "      border-bottom-color: var(--fill-color);\n",
              "      border-left-color: var(--fill-color);\n",
              "    }\n",
              "    20% {\n",
              "      border-color: transparent;\n",
              "      border-left-color: var(--fill-color);\n",
              "      border-top-color: var(--fill-color);\n",
              "    }\n",
              "    30% {\n",
              "      border-color: transparent;\n",
              "      border-left-color: var(--fill-color);\n",
              "      border-top-color: var(--fill-color);\n",
              "      border-right-color: var(--fill-color);\n",
              "    }\n",
              "    40% {\n",
              "      border-color: transparent;\n",
              "      border-right-color: var(--fill-color);\n",
              "      border-top-color: var(--fill-color);\n",
              "    }\n",
              "    60% {\n",
              "      border-color: transparent;\n",
              "      border-right-color: var(--fill-color);\n",
              "    }\n",
              "    80% {\n",
              "      border-color: transparent;\n",
              "      border-right-color: var(--fill-color);\n",
              "      border-bottom-color: var(--fill-color);\n",
              "    }\n",
              "    90% {\n",
              "      border-color: transparent;\n",
              "      border-bottom-color: var(--fill-color);\n",
              "    }\n",
              "  }\n",
              "</style>\n",
              "\n",
              "  <script>\n",
              "    async function quickchart(key) {\n",
              "      const quickchartButtonEl =\n",
              "        document.querySelector('#' + key + ' button');\n",
              "      quickchartButtonEl.disabled = true;  // To prevent multiple clicks.\n",
              "      quickchartButtonEl.classList.add('colab-df-spinner');\n",
              "      try {\n",
              "        const charts = await google.colab.kernel.invokeFunction(\n",
              "            'suggestCharts', [key], {});\n",
              "      } catch (error) {\n",
              "        console.error('Error during call to suggestCharts:', error);\n",
              "      }\n",
              "      quickchartButtonEl.classList.remove('colab-df-spinner');\n",
              "      quickchartButtonEl.classList.add('colab-df-quickchart-complete');\n",
              "    }\n",
              "    (() => {\n",
              "      let quickchartButtonEl =\n",
              "        document.querySelector('#df-83aeb38b-778a-4516-ae13-45c786a6f33f button');\n",
              "      quickchartButtonEl.style.display =\n",
              "        google.colab.kernel.accessAllowed ? 'block' : 'none';\n",
              "    })();\n",
              "  </script>\n",
              "</div>\n",
              "\n",
              "    </div>\n",
              "  </div>\n"
            ],
            "application/vnd.google.colaboratory.intrinsic+json": {
              "type": "dataframe",
              "summary": "{\n  \"name\": \"breast_cancer_data\",\n  \"rows\": 13106,\n  \"fields\": [\n    {\n      \"column\": \"DRUG_ID\",\n      \"properties\": {\n        \"dtype\": \"number\",\n        \"std\": 400,\n        \"min\": 1003,\n        \"max\": 2499,\n        \"num_unique_values\": 295,\n        \"samples\": [\n          2149,\n          1732,\n          1243\n        ],\n        \"semantic_type\": \"\",\n        \"description\": \"\"\n      }\n    },\n    {\n      \"column\": \"DRUG_NAME\",\n      \"properties\": {\n        \"dtype\": \"category\",\n        \"num_unique_values\": 286,\n        \"samples\": [\n          \"Vorinostat\",\n          \"A-366\",\n          \"AGI-6780\"\n        ],\n        \"semantic_type\": \"\",\n        \"description\": \"\"\n      }\n    },\n    {\n      \"column\": \"LN_IC50\",\n      \"properties\": {\n        \"dtype\": \"number\",\n        \"std\": 2.649848125512575,\n        \"min\": -7.568085,\n        \"max\": 12.265135,\n        \"num_unique_values\": 13023,\n        \"samples\": [\n          5.173506,\n          5.303921,\n          0.912864\n        ],\n        \"semantic_type\": \"\",\n        \"description\": \"\"\n      }\n    },\n    {\n      \"column\": \"AUC\",\n      \"properties\": {\n        \"dtype\": \"number\",\n        \"std\": 0.13171205646850956,\n        \"min\": 0.030137,\n        \"max\": 0.996614,\n        \"num_unique_values\": 12348,\n        \"samples\": [\n          0.978305,\n          0.975058,\n          0.969259\n        ],\n        \"semantic_type\": \"\",\n        \"description\": \"\"\n      }\n    },\n    {\n      \"column\": \"Z_SCORE\",\n      \"properties\": {\n        \"dtype\": \"number\",\n        \"std\": 1.001146962124495,\n        \"min\": -5.704489,\n        \"max\": 5.227628,\n        \"num_unique_values\": 13085,\n        \"samples\": [\n          -0.412453,\n          0.978374,\n          -0.696353\n        ],\n        \"semantic_type\": \"\",\n        \"description\": \"\"\n      }\n    },\n    {\n      \"column\": \"Microsatellite instability Status (MSI)\",\n      \"properties\": {\n        \"dtype\": \"category\",\n        \"num_unique_values\": 2,\n        \"samples\": [\n          \"MSI-H\",\n          \"MSS/MSI-L\"\n        ],\n        \"semantic_type\": \"\",\n        \"description\": \"\"\n      }\n    },\n    {\n      \"column\": \"Screen Medium\",\n      \"properties\": {\n        \"dtype\": \"category\",\n        \"num_unique_values\": 2,\n        \"samples\": [\n          \"D/F12\",\n          \"R\"\n        ],\n        \"semantic_type\": \"\",\n        \"description\": \"\"\n      }\n    },\n    {\n      \"column\": \"Growth Properties\",\n      \"properties\": {\n        \"dtype\": \"category\",\n        \"num_unique_values\": 2,\n        \"samples\": [\n          \"Suspension\",\n          \"Adherent\"\n        ],\n        \"semantic_type\": \"\",\n        \"description\": \"\"\n      }\n    },\n    {\n      \"column\": \"CNA\",\n      \"properties\": {\n        \"dtype\": \"category\",\n        \"num_unique_values\": 1,\n        \"samples\": [\n          \"Y\"\n        ],\n        \"semantic_type\": \"\",\n        \"description\": \"\"\n      }\n    },\n    {\n      \"column\": \"Gene Expression\",\n      \"properties\": {\n        \"dtype\": \"category\",\n        \"num_unique_values\": 2,\n        \"samples\": [\n          \"N\"\n        ],\n        \"semantic_type\": \"\",\n        \"description\": \"\"\n      }\n    },\n    {\n      \"column\": \"Methylation\",\n      \"properties\": {\n        \"dtype\": \"category\",\n        \"num_unique_values\": 2,\n        \"samples\": [\n          \"N\"\n        ],\n        \"semantic_type\": \"\",\n        \"description\": \"\"\n      }\n    },\n    {\n      \"column\": \"TARGET\",\n      \"properties\": {\n        \"dtype\": \"category\",\n        \"num_unique_values\": 185,\n        \"samples\": [\n          \"GSK3A, GSK3B\"\n        ],\n        \"semantic_type\": \"\",\n        \"description\": \"\"\n      }\n    },\n    {\n      \"column\": \"TARGET_PATHWAY\",\n      \"properties\": {\n        \"dtype\": \"category\",\n        \"num_unique_values\": 24,\n        \"samples\": [\n          \"PI3K/MTOR signaling\"\n        ],\n        \"semantic_type\": \"\",\n        \"description\": \"\"\n      }\n    }\n  ]\n}"
            }
          },
          "metadata": {},
          "execution_count": 26
        }
      ]
    },
    {
      "cell_type": "code",
      "source": [
        "    # 2. Drop unnecessary columns\n",
        "    cols_to_drop = ['COSMIC_ID', 'CELL_LINE_NAME', 'TCGA_DESC',\n",
        "                   'GDSC Tissue descriptor 1', 'GDSC Tissue descriptor 2',\n",
        "                   'Cancer Type (matching TCGA label)']\n",
        "    breast_cancer_data.drop(cols_to_drop, axis=1, inplace=True)"
      ],
      "metadata": {
        "colab": {
          "base_uri": "https://localhost:8080/"
        },
        "id": "086tHxf24DXP",
        "outputId": "60f23530-6f23-4c49-cc08-d0bb9a6052a3"
      },
      "execution_count": null,
      "outputs": [
        {
          "output_type": "stream",
          "name": "stderr",
          "text": [
            "<ipython-input-27-05b89b7c3b5d>:5: SettingWithCopyWarning: \n",
            "A value is trying to be set on a copy of a slice from a DataFrame\n",
            "\n",
            "See the caveats in the documentation: https://pandas.pydata.org/pandas-docs/stable/user_guide/indexing.html#returning-a-view-versus-a-copy\n",
            "  breast_cancer_data.drop(cols_to_drop, axis=1, inplace=True)\n"
          ]
        }
      ]
    },
    {
      "cell_type": "code",
      "source": [
        "    # 3. Handle missing values\n",
        "    # Categorical columns\n",
        "    categorical_cols = ['DRUG_NAME', 'Microsatellite instability Status (MSI)',\n",
        "                       'Screen Medium', 'Growth Properties', 'TARGET_PATHWAY', 'TARGET']\n",
        "    breast_cancer_data[categorical_cols] = breast_cancer_data[categorical_cols].fillna('Unknown')\n",
        "\n",
        "    # Binary columns\n",
        "    binary_cols = ['CNA', 'Gene Expression', 'Methylation']\n",
        "    breast_cancer_data[binary_cols] = breast_cancer_data[binary_cols].fillna('N')\n",
        "\n",
        "    # Numeric columns\n",
        "    numeric_cols = ['DRUG_ID', 'LN_IC50', 'AUC', 'Z_SCORE']\n",
        "    breast_cancer_data[numeric_cols] = breast_cancer_data[numeric_cols].fillna(0)"
      ],
      "metadata": {
        "id": "D8Ocs8KAXbh_",
        "colab": {
          "base_uri": "https://localhost:8080/"
        },
        "outputId": "c06bae4b-aa88-4fc9-9d2d-99d20d83086a"
      },
      "execution_count": null,
      "outputs": [
        {
          "output_type": "stream",
          "name": "stderr",
          "text": [
            "<ipython-input-28-37a92af4c45f>:5: SettingWithCopyWarning: \n",
            "A value is trying to be set on a copy of a slice from a DataFrame.\n",
            "Try using .loc[row_indexer,col_indexer] = value instead\n",
            "\n",
            "See the caveats in the documentation: https://pandas.pydata.org/pandas-docs/stable/user_guide/indexing.html#returning-a-view-versus-a-copy\n",
            "  breast_cancer_data[categorical_cols] = breast_cancer_data[categorical_cols].fillna('Unknown')\n",
            "<ipython-input-28-37a92af4c45f>:9: SettingWithCopyWarning: \n",
            "A value is trying to be set on a copy of a slice from a DataFrame.\n",
            "Try using .loc[row_indexer,col_indexer] = value instead\n",
            "\n",
            "See the caveats in the documentation: https://pandas.pydata.org/pandas-docs/stable/user_guide/indexing.html#returning-a-view-versus-a-copy\n",
            "  breast_cancer_data[binary_cols] = breast_cancer_data[binary_cols].fillna('N')\n",
            "<ipython-input-28-37a92af4c45f>:13: SettingWithCopyWarning: \n",
            "A value is trying to be set on a copy of a slice from a DataFrame.\n",
            "Try using .loc[row_indexer,col_indexer] = value instead\n",
            "\n",
            "See the caveats in the documentation: https://pandas.pydata.org/pandas-docs/stable/user_guide/indexing.html#returning-a-view-versus-a-copy\n",
            "  breast_cancer_data[numeric_cols] = breast_cancer_data[numeric_cols].fillna(0)\n"
          ]
        }
      ]
    },
    {
      "cell_type": "code",
      "source": [
        "    # 4. Verify missing values\n",
        "    missing_after = breast_cancer_data.isnull().sum()\n",
        "    if missing_after.sum() > 0:\n",
        "        print(\"Warning: Missing values remain after cleaning:\")\n",
        "        print(missing_after[missing_after > 0])\n",
        "    else:\n",
        "        print(\"All missing values handled successfully.\")"
      ],
      "metadata": {
        "colab": {
          "base_uri": "https://localhost:8080/"
        },
        "id": "9E4A6T1nrbzH",
        "outputId": "0834923d-93b4-488d-bb6c-af8bc4bad69f"
      },
      "execution_count": null,
      "outputs": [
        {
          "output_type": "stream",
          "name": "stdout",
          "text": [
            "All missing values handled successfully.\n"
          ]
        }
      ]
    },
    {
      "cell_type": "code",
      "source": [
        "# 5. Save cleaned data if requested\n",
        "\n",
        "breast_cancer_data.to_csv('cleaned_dataset.csv', index=False)\n",
        "print(\"Cleaned data saved to 'cleaned_dataset.csv'\")\n"
      ],
      "metadata": {
        "colab": {
          "base_uri": "https://localhost:8080/"
        },
        "id": "4xrSaYX6rfko",
        "outputId": "abdbe931-96b8-48e9-c3ed-604c643a29f1"
      },
      "execution_count": null,
      "outputs": [
        {
          "output_type": "stream",
          "name": "stdout",
          "text": [
            "Cleaned data saved to 'cleaned_dataset.csv'\n"
          ]
        }
      ]
    },
    {
      "cell_type": "code",
      "source": [
        "# 6. Feature engineering and encoding\n",
        "\n",
        "# Convert binary columns to numeric (0/1)\n",
        "binary_mapping = {'N': 0, 'Y': 1}\n",
        "for col in binary_cols:\n",
        "    breast_cancer_data[col] = (\n",
        "        breast_cancer_data[col]\n",
        "        .map(binary_mapping)\n",
        "        .fillna(0)\n",
        "        .astype('int8')\n",
        "    )\n"
      ],
      "metadata": {
        "colab": {
          "base_uri": "https://localhost:8080/"
        },
        "id": "qUpPDUHlr19b",
        "outputId": "12cbd1f0-74d9-4e1c-9875-454675c35d84"
      },
      "execution_count": null,
      "outputs": [
        {
          "output_type": "stream",
          "name": "stderr",
          "text": [
            "<ipython-input-31-e7aaad4ea7f1>:6: SettingWithCopyWarning: \n",
            "A value is trying to be set on a copy of a slice from a DataFrame.\n",
            "Try using .loc[row_indexer,col_indexer] = value instead\n",
            "\n",
            "See the caveats in the documentation: https://pandas.pydata.org/pandas-docs/stable/user_guide/indexing.html#returning-a-view-versus-a-copy\n",
            "  breast_cancer_data[col] = (\n",
            "<ipython-input-31-e7aaad4ea7f1>:6: SettingWithCopyWarning: \n",
            "A value is trying to be set on a copy of a slice from a DataFrame.\n",
            "Try using .loc[row_indexer,col_indexer] = value instead\n",
            "\n",
            "See the caveats in the documentation: https://pandas.pydata.org/pandas-docs/stable/user_guide/indexing.html#returning-a-view-versus-a-copy\n",
            "  breast_cancer_data[col] = (\n",
            "<ipython-input-31-e7aaad4ea7f1>:6: SettingWithCopyWarning: \n",
            "A value is trying to be set on a copy of a slice from a DataFrame.\n",
            "Try using .loc[row_indexer,col_indexer] = value instead\n",
            "\n",
            "See the caveats in the documentation: https://pandas.pydata.org/pandas-docs/stable/user_guide/indexing.html#returning-a-view-versus-a-copy\n",
            "  breast_cancer_data[col] = (\n"
          ]
        }
      ]
    },
    {
      "cell_type": "code",
      "source": [
        "\n",
        "# One-hot encode categorical variables (excluding 'TARGET')\n",
        "categorical_cols = [col for col in categorical_cols]\n",
        "breast_cancer_data = pd.get_dummies(\n",
        "    breast_cancer_data,\n",
        "    columns=categorical_cols,\n",
        "    drop_first=True,\n",
        "    dtype='int8'\n",
        ")\n",
        "\n",
        "# Handle infinite values\n",
        "breast_cancer_data.replace([np.inf, -np.inf], np.nan, inplace=True)\n",
        "\n",
        "# Fill NaNs only in numeric columns using median\n",
        "numeric_cols = breast_cancer_data.select_dtypes(include=[np.number]).columns\n",
        "breast_cancer_data[numeric_cols] = breast_cancer_data[numeric_cols].fillna(\n",
        "    breast_cancer_data[numeric_cols].median()\n",
        ")\n"
      ],
      "metadata": {
        "id": "oX51_PTMvocs"
      },
      "execution_count": null,
      "outputs": []
    },
    {
      "cell_type": "code",
      "source": [
        "start_time = time.time()"
      ],
      "metadata": {
        "id": "2bpe3txUmm9-"
      },
      "execution_count": null,
      "outputs": []
    },
    {
      "cell_type": "markdown",
      "source": [
        "# Split Data and Scaling"
      ],
      "metadata": {
        "id": "z3RqlVhxjVEm"
      }
    },
    {
      "cell_type": "code",
      "source": [
        "    from sklearn.preprocessing import LabelEncoder\n",
        "    # 7. Prepare target variable (binned LN_IC50)\n",
        "    y = pd.cut(\n",
        "        breast_cancer_data['LN_IC50'],\n",
        "        bins=5,\n",
        "        labels=['very_low', 'low', 'medium', 'high', 'excellent']\n",
        "    )\n",
        "    print(\"\\nTarget class distribution:\")\n",
        "    print(y.value_counts())\n",
        "\n",
        "    # Encode target labels\n",
        "    label_encoder = LabelEncoder()\n",
        "    y_encoded = label_encoder.fit_transform(y)\n",
        "\n",
        "    # 8. Prepare features\n",
        "    X = breast_cancer_data.drop(columns=['LN_IC50'])\n",
        "\n",
        "    # 9. Split data\n",
        "    X_train, X_test, y_train, y_test = train_test_split(\n",
        "        X, y_encoded,\n",
        "        test_size=0.2,\n",
        "        random_state=42,\n",
        "        stratify=y_encoded  # Maintain class distribution\n",
        "    )\n",
        "\n",
        "    print(f\"\\nFinal dataset shapes:\")\n",
        "    print(f\"X_train: {X_train.shape}, y_train: {y_train.shape}\")\n",
        "    print(f\"X_test: {X_test.shape}, y_test: {y_test.shape}\")\n"
      ],
      "metadata": {
        "id": "oE00d7L-4ukD",
        "colab": {
          "base_uri": "https://localhost:8080/"
        },
        "outputId": "e06e9a27-3d2b-4de4-c2c7-e01014514314"
      },
      "execution_count": null,
      "outputs": [
        {
          "output_type": "stream",
          "name": "stdout",
          "text": [
            "\n",
            "Target class distribution:\n",
            "LN_IC50\n",
            "medium       6726\n",
            "high         4457\n",
            "low          1428\n",
            "very_low      340\n",
            "excellent     155\n",
            "Name: count, dtype: int64\n",
            "\n",
            "Final dataset shapes:\n",
            "X_train: (10484, 503), y_train: (10484,)\n",
            "X_test: (2622, 503), y_test: (2622,)\n"
          ]
        }
      ]
    },
    {
      "cell_type": "code",
      "source": [
        "from sklearn.preprocessing import StandardScaler\n",
        "# Initialize scaler (fit only on training data)\n",
        "scaler = StandardScaler()\n",
        "\n",
        "# Fit and transform training data\n",
        "X_train_scaled = scaler.fit_transform(X_train)\n",
        "\n",
        "# Transform test data (using same scaling parameters)\n",
        "X_test_scaled = scaler.transform(X_test)\n",
        "\n",
        "# Convert back to DataFrame (optional, but recommended for column names)\n",
        "X_train_scaled = pd.DataFrame(X_train_scaled, columns=X_train.columns)\n",
        "X_test_scaled = pd.DataFrame(X_test_scaled, columns=X_test.columns)"
      ],
      "metadata": {
        "id": "QT8Qvh0_XAiT"
      },
      "execution_count": null,
      "outputs": []
    },
    {
      "cell_type": "code",
      "source": [
        "# Memory usage after preprocessing\n",
        "preprocessing_memory = track_memory_usage()\n",
        "print(\"\\nMemory Usage after Preprocessing:\")\n",
        "print(f\"RSS: {preprocessing_memory['rss_mb']:.2f} MB\")\n",
        "print(f\"VMS: {preprocessing_memory['vms_mb']:.2f} MB\")"
      ],
      "metadata": {
        "colab": {
          "base_uri": "https://localhost:8080/"
        },
        "id": "vWcIADdu5HRC",
        "outputId": "39e7d3ec-740f-464a-cd4e-e685536cb99f"
      },
      "execution_count": null,
      "outputs": [
        {
          "output_type": "stream",
          "name": "stdout",
          "text": [
            "\n",
            "Memory Usage after Preprocessing:\n",
            "RSS: 429.57 MB\n",
            "VMS: 1816.64 MB\n"
          ]
        }
      ]
    },
    {
      "cell_type": "markdown",
      "source": [
        "# Calling and fitting the model"
      ],
      "metadata": {
        "id": "S9jcqUZejdfW"
      }
    },
    {
      "cell_type": "code",
      "source": [
        "# Create and train the decision tree classifier\n",
        "model = DecisionTreeClassifier(max_depth=30, random_state=42)\n",
        "model.fit(X_train_scaled, y_train)"
      ],
      "metadata": {
        "colab": {
          "base_uri": "https://localhost:8080/",
          "height": 80
        },
        "id": "93x2PlkF42OH",
        "outputId": "9c29bb65-5d24-4eec-d8ee-0f96ff4fedf5"
      },
      "execution_count": null,
      "outputs": [
        {
          "output_type": "execute_result",
          "data": {
            "text/plain": [
              "DecisionTreeClassifier(max_depth=30, random_state=42)"
            ],
            "text/html": [
              "<style>#sk-container-id-2 {\n",
              "  /* Definition of color scheme common for light and dark mode */\n",
              "  --sklearn-color-text: #000;\n",
              "  --sklearn-color-text-muted: #666;\n",
              "  --sklearn-color-line: gray;\n",
              "  /* Definition of color scheme for unfitted estimators */\n",
              "  --sklearn-color-unfitted-level-0: #fff5e6;\n",
              "  --sklearn-color-unfitted-level-1: #f6e4d2;\n",
              "  --sklearn-color-unfitted-level-2: #ffe0b3;\n",
              "  --sklearn-color-unfitted-level-3: chocolate;\n",
              "  /* Definition of color scheme for fitted estimators */\n",
              "  --sklearn-color-fitted-level-0: #f0f8ff;\n",
              "  --sklearn-color-fitted-level-1: #d4ebff;\n",
              "  --sklearn-color-fitted-level-2: #b3dbfd;\n",
              "  --sklearn-color-fitted-level-3: cornflowerblue;\n",
              "\n",
              "  /* Specific color for light theme */\n",
              "  --sklearn-color-text-on-default-background: var(--sg-text-color, var(--theme-code-foreground, var(--jp-content-font-color1, black)));\n",
              "  --sklearn-color-background: var(--sg-background-color, var(--theme-background, var(--jp-layout-color0, white)));\n",
              "  --sklearn-color-border-box: var(--sg-text-color, var(--theme-code-foreground, var(--jp-content-font-color1, black)));\n",
              "  --sklearn-color-icon: #696969;\n",
              "\n",
              "  @media (prefers-color-scheme: dark) {\n",
              "    /* Redefinition of color scheme for dark theme */\n",
              "    --sklearn-color-text-on-default-background: var(--sg-text-color, var(--theme-code-foreground, var(--jp-content-font-color1, white)));\n",
              "    --sklearn-color-background: var(--sg-background-color, var(--theme-background, var(--jp-layout-color0, #111)));\n",
              "    --sklearn-color-border-box: var(--sg-text-color, var(--theme-code-foreground, var(--jp-content-font-color1, white)));\n",
              "    --sklearn-color-icon: #878787;\n",
              "  }\n",
              "}\n",
              "\n",
              "#sk-container-id-2 {\n",
              "  color: var(--sklearn-color-text);\n",
              "}\n",
              "\n",
              "#sk-container-id-2 pre {\n",
              "  padding: 0;\n",
              "}\n",
              "\n",
              "#sk-container-id-2 input.sk-hidden--visually {\n",
              "  border: 0;\n",
              "  clip: rect(1px 1px 1px 1px);\n",
              "  clip: rect(1px, 1px, 1px, 1px);\n",
              "  height: 1px;\n",
              "  margin: -1px;\n",
              "  overflow: hidden;\n",
              "  padding: 0;\n",
              "  position: absolute;\n",
              "  width: 1px;\n",
              "}\n",
              "\n",
              "#sk-container-id-2 div.sk-dashed-wrapped {\n",
              "  border: 1px dashed var(--sklearn-color-line);\n",
              "  margin: 0 0.4em 0.5em 0.4em;\n",
              "  box-sizing: border-box;\n",
              "  padding-bottom: 0.4em;\n",
              "  background-color: var(--sklearn-color-background);\n",
              "}\n",
              "\n",
              "#sk-container-id-2 div.sk-container {\n",
              "  /* jupyter's `normalize.less` sets `[hidden] { display: none; }`\n",
              "     but bootstrap.min.css set `[hidden] { display: none !important; }`\n",
              "     so we also need the `!important` here to be able to override the\n",
              "     default hidden behavior on the sphinx rendered scikit-learn.org.\n",
              "     See: https://github.com/scikit-learn/scikit-learn/issues/21755 */\n",
              "  display: inline-block !important;\n",
              "  position: relative;\n",
              "}\n",
              "\n",
              "#sk-container-id-2 div.sk-text-repr-fallback {\n",
              "  display: none;\n",
              "}\n",
              "\n",
              "div.sk-parallel-item,\n",
              "div.sk-serial,\n",
              "div.sk-item {\n",
              "  /* draw centered vertical line to link estimators */\n",
              "  background-image: linear-gradient(var(--sklearn-color-text-on-default-background), var(--sklearn-color-text-on-default-background));\n",
              "  background-size: 2px 100%;\n",
              "  background-repeat: no-repeat;\n",
              "  background-position: center center;\n",
              "}\n",
              "\n",
              "/* Parallel-specific style estimator block */\n",
              "\n",
              "#sk-container-id-2 div.sk-parallel-item::after {\n",
              "  content: \"\";\n",
              "  width: 100%;\n",
              "  border-bottom: 2px solid var(--sklearn-color-text-on-default-background);\n",
              "  flex-grow: 1;\n",
              "}\n",
              "\n",
              "#sk-container-id-2 div.sk-parallel {\n",
              "  display: flex;\n",
              "  align-items: stretch;\n",
              "  justify-content: center;\n",
              "  background-color: var(--sklearn-color-background);\n",
              "  position: relative;\n",
              "}\n",
              "\n",
              "#sk-container-id-2 div.sk-parallel-item {\n",
              "  display: flex;\n",
              "  flex-direction: column;\n",
              "}\n",
              "\n",
              "#sk-container-id-2 div.sk-parallel-item:first-child::after {\n",
              "  align-self: flex-end;\n",
              "  width: 50%;\n",
              "}\n",
              "\n",
              "#sk-container-id-2 div.sk-parallel-item:last-child::after {\n",
              "  align-self: flex-start;\n",
              "  width: 50%;\n",
              "}\n",
              "\n",
              "#sk-container-id-2 div.sk-parallel-item:only-child::after {\n",
              "  width: 0;\n",
              "}\n",
              "\n",
              "/* Serial-specific style estimator block */\n",
              "\n",
              "#sk-container-id-2 div.sk-serial {\n",
              "  display: flex;\n",
              "  flex-direction: column;\n",
              "  align-items: center;\n",
              "  background-color: var(--sklearn-color-background);\n",
              "  padding-right: 1em;\n",
              "  padding-left: 1em;\n",
              "}\n",
              "\n",
              "\n",
              "/* Toggleable style: style used for estimator/Pipeline/ColumnTransformer box that is\n",
              "clickable and can be expanded/collapsed.\n",
              "- Pipeline and ColumnTransformer use this feature and define the default style\n",
              "- Estimators will overwrite some part of the style using the `sk-estimator` class\n",
              "*/\n",
              "\n",
              "/* Pipeline and ColumnTransformer style (default) */\n",
              "\n",
              "#sk-container-id-2 div.sk-toggleable {\n",
              "  /* Default theme specific background. It is overwritten whether we have a\n",
              "  specific estimator or a Pipeline/ColumnTransformer */\n",
              "  background-color: var(--sklearn-color-background);\n",
              "}\n",
              "\n",
              "/* Toggleable label */\n",
              "#sk-container-id-2 label.sk-toggleable__label {\n",
              "  cursor: pointer;\n",
              "  display: flex;\n",
              "  width: 100%;\n",
              "  margin-bottom: 0;\n",
              "  padding: 0.5em;\n",
              "  box-sizing: border-box;\n",
              "  text-align: center;\n",
              "  align-items: start;\n",
              "  justify-content: space-between;\n",
              "  gap: 0.5em;\n",
              "}\n",
              "\n",
              "#sk-container-id-2 label.sk-toggleable__label .caption {\n",
              "  font-size: 0.6rem;\n",
              "  font-weight: lighter;\n",
              "  color: var(--sklearn-color-text-muted);\n",
              "}\n",
              "\n",
              "#sk-container-id-2 label.sk-toggleable__label-arrow:before {\n",
              "  /* Arrow on the left of the label */\n",
              "  content: \"▸\";\n",
              "  float: left;\n",
              "  margin-right: 0.25em;\n",
              "  color: var(--sklearn-color-icon);\n",
              "}\n",
              "\n",
              "#sk-container-id-2 label.sk-toggleable__label-arrow:hover:before {\n",
              "  color: var(--sklearn-color-text);\n",
              "}\n",
              "\n",
              "/* Toggleable content - dropdown */\n",
              "\n",
              "#sk-container-id-2 div.sk-toggleable__content {\n",
              "  max-height: 0;\n",
              "  max-width: 0;\n",
              "  overflow: hidden;\n",
              "  text-align: left;\n",
              "  /* unfitted */\n",
              "  background-color: var(--sklearn-color-unfitted-level-0);\n",
              "}\n",
              "\n",
              "#sk-container-id-2 div.sk-toggleable__content.fitted {\n",
              "  /* fitted */\n",
              "  background-color: var(--sklearn-color-fitted-level-0);\n",
              "}\n",
              "\n",
              "#sk-container-id-2 div.sk-toggleable__content pre {\n",
              "  margin: 0.2em;\n",
              "  border-radius: 0.25em;\n",
              "  color: var(--sklearn-color-text);\n",
              "  /* unfitted */\n",
              "  background-color: var(--sklearn-color-unfitted-level-0);\n",
              "}\n",
              "\n",
              "#sk-container-id-2 div.sk-toggleable__content.fitted pre {\n",
              "  /* unfitted */\n",
              "  background-color: var(--sklearn-color-fitted-level-0);\n",
              "}\n",
              "\n",
              "#sk-container-id-2 input.sk-toggleable__control:checked~div.sk-toggleable__content {\n",
              "  /* Expand drop-down */\n",
              "  max-height: 200px;\n",
              "  max-width: 100%;\n",
              "  overflow: auto;\n",
              "}\n",
              "\n",
              "#sk-container-id-2 input.sk-toggleable__control:checked~label.sk-toggleable__label-arrow:before {\n",
              "  content: \"▾\";\n",
              "}\n",
              "\n",
              "/* Pipeline/ColumnTransformer-specific style */\n",
              "\n",
              "#sk-container-id-2 div.sk-label input.sk-toggleable__control:checked~label.sk-toggleable__label {\n",
              "  color: var(--sklearn-color-text);\n",
              "  background-color: var(--sklearn-color-unfitted-level-2);\n",
              "}\n",
              "\n",
              "#sk-container-id-2 div.sk-label.fitted input.sk-toggleable__control:checked~label.sk-toggleable__label {\n",
              "  background-color: var(--sklearn-color-fitted-level-2);\n",
              "}\n",
              "\n",
              "/* Estimator-specific style */\n",
              "\n",
              "/* Colorize estimator box */\n",
              "#sk-container-id-2 div.sk-estimator input.sk-toggleable__control:checked~label.sk-toggleable__label {\n",
              "  /* unfitted */\n",
              "  background-color: var(--sklearn-color-unfitted-level-2);\n",
              "}\n",
              "\n",
              "#sk-container-id-2 div.sk-estimator.fitted input.sk-toggleable__control:checked~label.sk-toggleable__label {\n",
              "  /* fitted */\n",
              "  background-color: var(--sklearn-color-fitted-level-2);\n",
              "}\n",
              "\n",
              "#sk-container-id-2 div.sk-label label.sk-toggleable__label,\n",
              "#sk-container-id-2 div.sk-label label {\n",
              "  /* The background is the default theme color */\n",
              "  color: var(--sklearn-color-text-on-default-background);\n",
              "}\n",
              "\n",
              "/* On hover, darken the color of the background */\n",
              "#sk-container-id-2 div.sk-label:hover label.sk-toggleable__label {\n",
              "  color: var(--sklearn-color-text);\n",
              "  background-color: var(--sklearn-color-unfitted-level-2);\n",
              "}\n",
              "\n",
              "/* Label box, darken color on hover, fitted */\n",
              "#sk-container-id-2 div.sk-label.fitted:hover label.sk-toggleable__label.fitted {\n",
              "  color: var(--sklearn-color-text);\n",
              "  background-color: var(--sklearn-color-fitted-level-2);\n",
              "}\n",
              "\n",
              "/* Estimator label */\n",
              "\n",
              "#sk-container-id-2 div.sk-label label {\n",
              "  font-family: monospace;\n",
              "  font-weight: bold;\n",
              "  display: inline-block;\n",
              "  line-height: 1.2em;\n",
              "}\n",
              "\n",
              "#sk-container-id-2 div.sk-label-container {\n",
              "  text-align: center;\n",
              "}\n",
              "\n",
              "/* Estimator-specific */\n",
              "#sk-container-id-2 div.sk-estimator {\n",
              "  font-family: monospace;\n",
              "  border: 1px dotted var(--sklearn-color-border-box);\n",
              "  border-radius: 0.25em;\n",
              "  box-sizing: border-box;\n",
              "  margin-bottom: 0.5em;\n",
              "  /* unfitted */\n",
              "  background-color: var(--sklearn-color-unfitted-level-0);\n",
              "}\n",
              "\n",
              "#sk-container-id-2 div.sk-estimator.fitted {\n",
              "  /* fitted */\n",
              "  background-color: var(--sklearn-color-fitted-level-0);\n",
              "}\n",
              "\n",
              "/* on hover */\n",
              "#sk-container-id-2 div.sk-estimator:hover {\n",
              "  /* unfitted */\n",
              "  background-color: var(--sklearn-color-unfitted-level-2);\n",
              "}\n",
              "\n",
              "#sk-container-id-2 div.sk-estimator.fitted:hover {\n",
              "  /* fitted */\n",
              "  background-color: var(--sklearn-color-fitted-level-2);\n",
              "}\n",
              "\n",
              "/* Specification for estimator info (e.g. \"i\" and \"?\") */\n",
              "\n",
              "/* Common style for \"i\" and \"?\" */\n",
              "\n",
              ".sk-estimator-doc-link,\n",
              "a:link.sk-estimator-doc-link,\n",
              "a:visited.sk-estimator-doc-link {\n",
              "  float: right;\n",
              "  font-size: smaller;\n",
              "  line-height: 1em;\n",
              "  font-family: monospace;\n",
              "  background-color: var(--sklearn-color-background);\n",
              "  border-radius: 1em;\n",
              "  height: 1em;\n",
              "  width: 1em;\n",
              "  text-decoration: none !important;\n",
              "  margin-left: 0.5em;\n",
              "  text-align: center;\n",
              "  /* unfitted */\n",
              "  border: var(--sklearn-color-unfitted-level-1) 1pt solid;\n",
              "  color: var(--sklearn-color-unfitted-level-1);\n",
              "}\n",
              "\n",
              ".sk-estimator-doc-link.fitted,\n",
              "a:link.sk-estimator-doc-link.fitted,\n",
              "a:visited.sk-estimator-doc-link.fitted {\n",
              "  /* fitted */\n",
              "  border: var(--sklearn-color-fitted-level-1) 1pt solid;\n",
              "  color: var(--sklearn-color-fitted-level-1);\n",
              "}\n",
              "\n",
              "/* On hover */\n",
              "div.sk-estimator:hover .sk-estimator-doc-link:hover,\n",
              ".sk-estimator-doc-link:hover,\n",
              "div.sk-label-container:hover .sk-estimator-doc-link:hover,\n",
              ".sk-estimator-doc-link:hover {\n",
              "  /* unfitted */\n",
              "  background-color: var(--sklearn-color-unfitted-level-3);\n",
              "  color: var(--sklearn-color-background);\n",
              "  text-decoration: none;\n",
              "}\n",
              "\n",
              "div.sk-estimator.fitted:hover .sk-estimator-doc-link.fitted:hover,\n",
              ".sk-estimator-doc-link.fitted:hover,\n",
              "div.sk-label-container:hover .sk-estimator-doc-link.fitted:hover,\n",
              ".sk-estimator-doc-link.fitted:hover {\n",
              "  /* fitted */\n",
              "  background-color: var(--sklearn-color-fitted-level-3);\n",
              "  color: var(--sklearn-color-background);\n",
              "  text-decoration: none;\n",
              "}\n",
              "\n",
              "/* Span, style for the box shown on hovering the info icon */\n",
              ".sk-estimator-doc-link span {\n",
              "  display: none;\n",
              "  z-index: 9999;\n",
              "  position: relative;\n",
              "  font-weight: normal;\n",
              "  right: .2ex;\n",
              "  padding: .5ex;\n",
              "  margin: .5ex;\n",
              "  width: min-content;\n",
              "  min-width: 20ex;\n",
              "  max-width: 50ex;\n",
              "  color: var(--sklearn-color-text);\n",
              "  box-shadow: 2pt 2pt 4pt #999;\n",
              "  /* unfitted */\n",
              "  background: var(--sklearn-color-unfitted-level-0);\n",
              "  border: .5pt solid var(--sklearn-color-unfitted-level-3);\n",
              "}\n",
              "\n",
              ".sk-estimator-doc-link.fitted span {\n",
              "  /* fitted */\n",
              "  background: var(--sklearn-color-fitted-level-0);\n",
              "  border: var(--sklearn-color-fitted-level-3);\n",
              "}\n",
              "\n",
              ".sk-estimator-doc-link:hover span {\n",
              "  display: block;\n",
              "}\n",
              "\n",
              "/* \"?\"-specific style due to the `<a>` HTML tag */\n",
              "\n",
              "#sk-container-id-2 a.estimator_doc_link {\n",
              "  float: right;\n",
              "  font-size: 1rem;\n",
              "  line-height: 1em;\n",
              "  font-family: monospace;\n",
              "  background-color: var(--sklearn-color-background);\n",
              "  border-radius: 1rem;\n",
              "  height: 1rem;\n",
              "  width: 1rem;\n",
              "  text-decoration: none;\n",
              "  /* unfitted */\n",
              "  color: var(--sklearn-color-unfitted-level-1);\n",
              "  border: var(--sklearn-color-unfitted-level-1) 1pt solid;\n",
              "}\n",
              "\n",
              "#sk-container-id-2 a.estimator_doc_link.fitted {\n",
              "  /* fitted */\n",
              "  border: var(--sklearn-color-fitted-level-1) 1pt solid;\n",
              "  color: var(--sklearn-color-fitted-level-1);\n",
              "}\n",
              "\n",
              "/* On hover */\n",
              "#sk-container-id-2 a.estimator_doc_link:hover {\n",
              "  /* unfitted */\n",
              "  background-color: var(--sklearn-color-unfitted-level-3);\n",
              "  color: var(--sklearn-color-background);\n",
              "  text-decoration: none;\n",
              "}\n",
              "\n",
              "#sk-container-id-2 a.estimator_doc_link.fitted:hover {\n",
              "  /* fitted */\n",
              "  background-color: var(--sklearn-color-fitted-level-3);\n",
              "}\n",
              "</style><div id=\"sk-container-id-2\" class=\"sk-top-container\"><div class=\"sk-text-repr-fallback\"><pre>DecisionTreeClassifier(max_depth=30, random_state=42)</pre><b>In a Jupyter environment, please rerun this cell to show the HTML representation or trust the notebook. <br />On GitHub, the HTML representation is unable to render, please try loading this page with nbviewer.org.</b></div><div class=\"sk-container\" hidden><div class=\"sk-item\"><div class=\"sk-estimator fitted sk-toggleable\"><input class=\"sk-toggleable__control sk-hidden--visually\" id=\"sk-estimator-id-2\" type=\"checkbox\" checked><label for=\"sk-estimator-id-2\" class=\"sk-toggleable__label fitted sk-toggleable__label-arrow\"><div><div>DecisionTreeClassifier</div></div><div><a class=\"sk-estimator-doc-link fitted\" rel=\"noreferrer\" target=\"_blank\" href=\"https://scikit-learn.org/1.6/modules/generated/sklearn.tree.DecisionTreeClassifier.html\">?<span>Documentation for DecisionTreeClassifier</span></a><span class=\"sk-estimator-doc-link fitted\">i<span>Fitted</span></span></div></label><div class=\"sk-toggleable__content fitted\"><pre>DecisionTreeClassifier(max_depth=30, random_state=42)</pre></div> </div></div></div></div>"
            ]
          },
          "metadata": {},
          "execution_count": 36
        }
      ]
    },
    {
      "cell_type": "code",
      "source": [
        "# Memory usage after training\n",
        "training_memory = track_memory_usage()\n",
        "print(\"\\nMemory Usage after Training:\")\n",
        "print(f\"RSS: {training_memory['rss_mb']:.2f} MB\")\n",
        "print(f\"VMS: {training_memory['vms_mb']:.2f} MB\")"
      ],
      "metadata": {
        "colab": {
          "base_uri": "https://localhost:8080/"
        },
        "id": "-wxSYNqK5VGF",
        "outputId": "8022e13e-e769-49e0-a129-39354c6d35bc"
      },
      "execution_count": null,
      "outputs": [
        {
          "output_type": "stream",
          "name": "stdout",
          "text": [
            "\n",
            "Memory Usage after Training:\n",
            "RSS: 433.17 MB\n",
            "VMS: 1816.64 MB\n"
          ]
        }
      ]
    },
    {
      "cell_type": "markdown",
      "source": [
        "# calculating the accuracy and showing the confusion matrix"
      ],
      "metadata": {
        "id": "NTimfUrzjpDr"
      }
    },
    {
      "cell_type": "code",
      "source": [
        "# Make predictions\n",
        "y_pred = model.predict(X_test_scaled)"
      ],
      "metadata": {
        "id": "UdKOJ8uI45VR"
      },
      "execution_count": null,
      "outputs": []
    },
    {
      "cell_type": "code",
      "source": [
        "# Calculate accuracy\n",
        "accuracy = accuracy_score(y_test, y_pred)\n",
        "\n",
        "# Print model performance\n",
        "print(\"Accuracy Score:\", accuracy_score(y_test, y_pred))\n",
        "print(\"\\nClassification Report:\\n\", classification_report(y_test, y_pred))\n",
        "\n",
        "# Confusion Matrix Visualization\n",
        "plt.figure(figsize=(10,7))\n",
        "cm = confusion_matrix(y_test, y_pred)\n",
        "sns.heatmap(cm, annot=True, fmt='d', cmap='Blues')\n",
        "plt.title('Confusion Matrix')\n",
        "plt.ylabel('True Label')\n",
        "plt.xlabel('Predicted Label')\n",
        "plt.tight_layout()\n",
        "plt.show()"
      ],
      "metadata": {
        "colab": {
          "base_uri": "https://localhost:8080/",
          "height": 967
        },
        "id": "wn9io0p05gll",
        "outputId": "c781f1e5-cd1e-456c-a1b7-e8d498d5eb56"
      },
      "execution_count": null,
      "outputs": [
        {
          "output_type": "stream",
          "name": "stdout",
          "text": [
            "Accuracy Score: 0.9061784897025171\n",
            "\n",
            "Classification Report:\n",
            "               precision    recall  f1-score   support\n",
            "\n",
            "           0       1.00      0.84      0.91        31\n",
            "           1       0.90      0.87      0.89       892\n",
            "           2       0.94      0.89      0.91       286\n",
            "           3       0.90      0.93      0.92      1345\n",
            "           4       0.93      0.94      0.93        68\n",
            "\n",
            "    accuracy                           0.91      2622\n",
            "   macro avg       0.93      0.89      0.91      2622\n",
            "weighted avg       0.91      0.91      0.91      2622\n",
            "\n"
          ]
        },
        {
          "output_type": "display_data",
          "data": {
            "text/plain": [
              "<Figure size 1000x700 with 2 Axes>"
            ],
            "image/png": "[encoded data removed]"
          },
          "metadata": {}
        }
      ]
    },
    {
      "cell_type": "code",
      "source": [
        "# Calculate detailed error metrics\n",
        "error_analysis = calculate_detailed_errors(y_test, y_pred)\n",
        "\n",
        "# Print error analysis\n",
        "print(\"\\nError Analysis:\")\n",
        "print(f\"Total Samples: {error_analysis['total_samples']}\")\n",
        "print(f\"Misclassified Samples: {error_analysis['misclassified_samples']}\")\n",
        "print(f\"Misclassification Rate: {error_analysis['misclassification_rate']:.4f}\")"
      ],
      "metadata": {
        "colab": {
          "base_uri": "https://localhost:8080/"
        },
        "id": "cD1aXXKy5lxF",
        "outputId": "2464faca-901c-4154-a4db-66e32a7a0675"
      },
      "execution_count": null,
      "outputs": [
        {
          "output_type": "stream",
          "name": "stdout",
          "text": [
            "\n",
            "Error Analysis:\n",
            "Total Samples: 2622\n",
            "Misclassified Samples: 246\n",
            "Misclassification Rate: 0.0938\n"
          ]
        }
      ]
    },
    {
      "cell_type": "code",
      "source": [
        "# Prediction function\n",
        "def predict_drug(model, scaler, new_data):\n",
        "    # Scale the new data\n",
        "    new_data_scaled = scaler.transform(new_data)\n",
        "    # Make prediction\n",
        "    prediction_encoded = model.predict(new_data_scaled)\n",
        "    # Convert prediction back to drug name\n",
        "    prediction = drug_encoder.inverse_transform(prediction_encoded)\n",
        "    return prediction"
      ],
      "metadata": {
        "id": "cEh21bux59xU"
      },
      "execution_count": null,
      "outputs": []
    },
    {
      "cell_type": "code",
      "source": [
        "\n",
        "# Stop memory tracking and get final snapshot\n",
        "final_memory = track_memory_usage()\n",
        "print(\"\\nFinal Memory Usage:\")\n",
        "print(f\"RSS: {final_memory['rss_mb']:.2f} MB\")\n",
        "print(f\"VMS: {final_memory['vms_mb']:.2f} MB\")"
      ],
      "metadata": {
        "id": "TsMTrOTs6Bid",
        "colab": {
          "base_uri": "https://localhost:8080/"
        },
        "outputId": "015cdf40-344d-4312-ca7f-32222f2e27eb"
      },
      "execution_count": null,
      "outputs": [
        {
          "output_type": "stream",
          "name": "stdout",
          "text": [
            "\n",
            "Final Memory Usage:\n",
            "RSS: 433.24 MB\n",
            "VMS: 1816.64 MB\n"
          ]
        }
      ]
    },
    {
      "cell_type": "code",
      "source": [
        "# Get memory allocation details\n",
        "current, peak = tracemalloc.get_traced_memory()\n",
        "print(f\"\\nCurrent memory usage: {current / 10**6:.2f} MB\")\n",
        "print(f\"Peak memory usage: {peak / 10**6:.2f} MB\")\n",
        "tracemalloc.stop()"
      ],
      "metadata": {
        "id": "C7uw3gTN6E5C",
        "colab": {
          "base_uri": "https://localhost:8080/"
        },
        "outputId": "1b37b3a6-9777-4100-cb8c-412ffbe3ec52"
      },
      "execution_count": null,
      "outputs": [
        {
          "output_type": "stream",
          "name": "stdout",
          "text": [
            "\n",
            "Current memory usage: 119.43 MB\n",
            "Peak memory usage: 347.58 MB\n"
          ]
        }
      ]
    },
    {
      "cell_type": "code",
      "source": [
        "time.sleep(2)  # Simulation d'un traitement\n",
        "\n",
        "end_time = time.time()  # Arrête le chrono\n",
        "execution_time = end_time - start_time  # Calcul du temps\n",
        "\n",
        "print(f\"Temps d'exécution : {execution_time:.6f} secondes\")"
      ],
      "metadata": {
        "colab": {
          "base_uri": "https://localhost:8080/"
        },
        "id": "2cv8dFX2mzqO",
        "outputId": "faa93459-e090-4e0e-d562-5f3b4588ae88"
      },
      "execution_count": null,
      "outputs": [
        {
          "output_type": "stream",
          "name": "stdout",
          "text": [
            "Temps d'exécution : 24.739059 secondes\n"
          ]
        }
      ]
    },
    {
      "cell_type": "markdown",
      "source": [
        "# Saving the model"
      ],
      "metadata": {
        "id": "g80fqbG3j9d5"
      }
    },
    {
      "cell_type": "code",
      "source": [
        "import pickle\n",
        "\n",
        "with open('decision_tree_30_model.pkl', 'wb') as f:\n",
        "    pickle.dump(model, f)"
      ],
      "metadata": {
        "id": "TJbeAPCVkcHv"
      },
      "execution_count": null,
      "outputs": []
    }
  ]
}