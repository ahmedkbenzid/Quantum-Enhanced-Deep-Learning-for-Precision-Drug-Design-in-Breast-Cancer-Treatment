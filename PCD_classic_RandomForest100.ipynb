{
  "nbformat": 4,
  "nbformat_minor": 0,
  "metadata": {
    "colab": {
      "provenance": [],
      "include_colab_link": true
    },
    "kernelspec": {
      "name": "python3",
      "display_name": "Python 3"
    },
    "language_info": {
      "name": "python"
    }
  },
  "cells": [
    {
      "cell_type": "markdown",
      "metadata": {
        "id": "view-in-github",
        "colab_type": "text"
      },
      "source": [
        "<a href=\"https://colab.research.google.com/github/meryamhzamiensi/Quantum-Enhanced-Deep-Learning-for-Precision-Drug-Design-in-Breast-Cancer-Treatment/blob/ML-models/PCD_classic_RandomForest100.ipynb\" target=\"_parent\"><img src=\"https://colab.research.google.com/assets/colab-badge.svg\" alt=\"Open In Colab\"/></a>"
      ]
    },
    {
      "cell_type": "code",
      "execution_count": null,
      "metadata": {
        "id": "tkUikoJ-DGRJ"
      },
      "outputs": [],
      "source": [
        "# Étape 1 : Importation des bibliothèques\n",
        "import pandas as pd\n",
        "import numpy as np\n",
        "import matplotlib.pyplot as plt\n",
        "import seaborn as sns\n",
        "from sklearn.ensemble import RandomForestClassifier\n",
        "from sklearn.model_selection import train_test_split\n",
        "from sklearn.metrics import confusion_matrix, accuracy_score\n",
        "from sklearn.metrics import mean_squared_error, r2_score\n",
        "from sklearn.impute import SimpleImputer\n",
        "from sklearn.preprocessing import StandardScaler\n",
        "from sklearn.preprocessing import StandardScaler, LabelEncoder\n",
        "import time\n",
        "import tracemalloc\n",
        "import psutil\n",
        "import os"
      ]
    },
    {
      "cell_type": "code",
      "source": [
        "def track_memory_usage():\n",
        "    \"\"\"\n",
        "    Track memory usage of the current process\n",
        "\n",
        "    Returns:\n",
        "    dict: Memory usage statistics\n",
        "    \"\"\"\n",
        "    process = psutil.Process(os.getpid())\n",
        "    memory_info = process.memory_info()\n",
        "\n",
        "    return {\n",
        "        'rss_mb': memory_info.rss / (1024 * 1024),  # Resident Set Size in MB\n",
        "        'vms_mb': memory_info.vms / (1024 * 1024),  # Virtual Memory Size in MB\n",
        "    }"
      ],
      "metadata": {
        "id": "2LF4mp9EDYLc"
      },
      "execution_count": null,
      "outputs": []
    },
    {
      "cell_type": "code",
      "source": [
        "def calculate_detailed_errors(y_test, y_pred):\n",
        "    \"\"\"\n",
        "    Calculate detailed error metrics\n",
        "\n",
        "    Parameters:\n",
        "    y_test (array): True labels\n",
        "    y_pred (array): Predicted labels\n",
        "\n",
        "    Returns:\n",
        "    dict: Error analysis metrics\n",
        "    \"\"\"\n",
        "     # Convert encoded labels back to drug names\n",
        "    y_test_names = y_test\n",
        "    y_pred_names = y_pred\n",
        "\n",
        "    # Confusion matrix\n",
        "    conf_matrix = confusion_matrix(y_test_names, y_pred_names)\n",
        "\n",
        "    # Detailed error analysis\n",
        "    error_analysis = {\n",
        "        'total_samples': len(y_test),\n",
        "        'misclassified_samples': np.sum(y_test != y_pred),\n",
        "        'misclassification_rate': 1 - accuracy_score(y_test, y_pred),\n",
        "        'confusion_matrix': conf_matrix\n",
        "    }\n",
        "\n",
        "    # Per-drug error analysis\n",
        "    drug_error_details = {}\n",
        "    unique_drugs = np.unique(y_test_names)\n",
        "\n",
        "    for drug in unique_drugs:\n",
        "        drug_mask = (y_test_names == drug)\n",
        "        drug_true = y_test_names[drug_mask]\n",
        "        drug_pred = y_pred_names[drug_mask]\n",
        "\n",
        "        drug_error_details[drug] = {\n",
        "            'total_samples': len(drug_true),\n",
        "            'correct_predictions': np.sum(drug_true == drug_pred),\n",
        "            'incorrect_predictions': np.sum(drug_true != drug_pred),\n",
        "            'accuracy': accuracy_score(drug_true, drug_pred)\n",
        "        }\n",
        "\n",
        "    error_analysis['per_drug_details'] = drug_error_details\n",
        "\n",
        "    return error_analysis"
      ],
      "metadata": {
        "id": "kXLSdvtAT4yZ"
      },
      "execution_count": null,
      "outputs": []
    },
    {
      "cell_type": "code",
      "source": [
        "# Load the dataset\n",
        "breast_cancer_data = pd.read_csv('processed_dataset.csv')"
      ],
      "metadata": {
        "id": "qMW8WUgbDm8v"
      },
      "execution_count": null,
      "outputs": []
    },
    {
      "cell_type": "code",
      "source": [
        "from sklearn.preprocessing import LabelEncoder\n",
        "# 7. Prepare target variable (binned LN_IC50)\n",
        "y = pd.cut(\n",
        "        breast_cancer_data['LN_IC50'],\n",
        "        bins=5,\n",
        "        labels=['very_low', 'low', 'medium', 'high', 'excellent']\n",
        "    )\n",
        "print(\"\\nTarget class distribution:\")\n",
        "print(y.value_counts())\n",
        "\n",
        "    # Encode target labels\n",
        "label_encoder = LabelEncoder()\n",
        "y_encoded = label_encoder.fit_transform(y)\n",
        "\n",
        "#     # 8. Prepare features\n",
        "# X = breast_cancer_data.drop(columns=['LN_IC50'])\n",
        "\n",
        "# Étape 8 : Préparer X et y\n",
        "y = label_encoder.fit_transform(\n",
        "    pd.cut(\n",
        "        breast_cancer_data['LN_IC50'],\n",
        "        bins=5,\n",
        "        labels=['very_low','low','medium','high','excellent']\n",
        "    )\n",
        ")\n",
        "\n",
        "# On supprime la colonne LN_IC50 de X\n",
        "X = breast_cancer_data.drop(columns=['LN_IC50'])\n",
        "\n",
        "# Split train/test\n",
        "X_train, X_test, y_train, y_test = train_test_split(\n",
        "    X, y, test_size=0.2, random_state=42, stratify=y\n",
        ")\n",
        "\n",
        "    # 9. Split data\n",
        "X_train, X_test, y_train, y_test = train_test_split(\n",
        "X, y_encoded,\n",
        "test_size=0.2,\n",
        "random_state=42,\n",
        "stratify=y_encoded  # Maintain class distribution\n",
        "    )\n",
        "\n",
        "print(f\"\\nFinal dataset shapes:\")\n",
        "print(f\"X_train: {X_train.shape}, y_train: {y_train.shape}\")\n",
        "print(f\"X_test: {X_test.shape}, y_test: {y_test.shape}\")\n"
      ],
      "metadata": {
        "colab": {
          "base_uri": "https://localhost:8080/"
        },
        "id": "Ak4QzZYIcWrJ",
        "outputId": "fdb59079-5074-4812-e072-b1b34e81ecaa"
      },
      "execution_count": null,
      "outputs": [
        {
          "output_type": "stream",
          "name": "stdout",
          "text": [
            "\n",
            "Target class distribution:\n",
            "LN_IC50\n",
            "medium       6726\n",
            "high         4457\n",
            "low          1428\n",
            "very_low      340\n",
            "excellent     155\n",
            "Name: count, dtype: int64\n",
            "\n",
            "Final dataset shapes:\n",
            "X_train: (10484, 503), y_train: (10484,)\n",
            "X_test: (2622, 503), y_test: (2622,)\n"
          ]
        }
      ]
    },
    {
      "cell_type": "code",
      "source": [
        "# Start memory tracking\n",
        "tracemalloc.start()"
      ],
      "metadata": {
        "id": "Cm0OwxtnDol_"
      },
      "execution_count": null,
      "outputs": []
    },
    {
      "cell_type": "code",
      "source": [
        "# Initial memory snapshot\n",
        "initial_memory = track_memory_usage()\n",
        "print(\"Initial Memory Usage:\")\n",
        "print(f\"RSS: {initial_memory['rss_mb']:.2f} MB\")\n",
        "print(f\"VMS: {initial_memory['vms_mb']:.2f} MB\")"
      ],
      "metadata": {
        "colab": {
          "base_uri": "https://localhost:8080/"
        },
        "id": "VX-Rz-jRD64A",
        "outputId": "6249a0d0-acf1-4e40-aee1-9ebc0fe42e3c"
      },
      "execution_count": null,
      "outputs": [
        {
          "output_type": "stream",
          "name": "stdout",
          "text": [
            "Initial Memory Usage:\n",
            "RSS: 433.31 MB\n",
            "VMS: 1770.44 MB\n"
          ]
        }
      ]
    },
    {
      "cell_type": "code",
      "source": [
        "start_time = time.time()"
      ],
      "metadata": {
        "id": "sfSQkzTLDW-m"
      },
      "execution_count": null,
      "outputs": []
    },
    {
      "cell_type": "code",
      "source": [
        "rf_model = RandomForestClassifier(\n",
        "    n_estimators=100,\n",
        "    class_weight='balanced',\n",
        "    random_state=42,\n",
        "    n_jobs=-1\n",
        ")\n",
        "print(\"\\nTraining Random Forest model...\")\n",
        "rf_model.fit(X_train, y_train)\n",
        "print(\"Model training completed.\")\n"
      ],
      "metadata": {
        "colab": {
          "base_uri": "https://localhost:8080/"
        },
        "id": "5sSr2jx3djrt",
        "outputId": "fa77372f-c871-49f5-c80e-cb5af62065b4"
      },
      "execution_count": null,
      "outputs": [
        {
          "output_type": "stream",
          "name": "stdout",
          "text": [
            "\n",
            "Training Random Forest model...\n",
            "Model training completed.\n"
          ]
        }
      ]
    },
    {
      "cell_type": "code",
      "source": [
        "# Étape 13 : Temps & mémoire\n",
        "end_time = time.time()\n",
        "execution_time = end_time - start_time\n",
        "print(f\"\\nExecution time: {execution_time:.2f} seconds\")\n",
        "\n",
        "final_memory = track_memory_usage()\n",
        "print(\"Final Memory Usage:\")\n",
        "print(f\"RSS: {final_memory['rss_mb']:.2f} MB\")\n",
        "print(f\"VMS: {final_memory['vms_mb']:.2f} MB\")"
      ],
      "metadata": {
        "colab": {
          "base_uri": "https://localhost:8080/"
        },
        "id": "jl0G2ovfq-gi",
        "outputId": "d6022bbd-34cc-4f5c-e553-5596e672b281"
      },
      "execution_count": null,
      "outputs": [
        {
          "output_type": "stream",
          "name": "stdout",
          "text": [
            "\n",
            "Execution time: 6.60 seconds\n",
            "Final Memory Usage:\n",
            "RSS: 478.47 MB\n",
            "VMS: 1850.45 MB\n"
          ]
        }
      ]
    },
    {
      "cell_type": "code",
      "source": [
        "# Get memory allocation details\n",
        "current, peak = tracemalloc.get_traced_memory()\n",
        "print(f\"\\nCurrent memory usage: {current / 10**6:.2f} MB\")\n",
        "print(f\"Peak memory usage: {peak / 10**6:.2f} MB\")\n",
        "tracemalloc.stop()"
      ],
      "metadata": {
        "id": "hS1wnF4w4Ylh",
        "outputId": "d8881463-c653-4fd5-ab75-aa1fe60fa599",
        "colab": {
          "base_uri": "https://localhost:8080/"
        }
      },
      "execution_count": null,
      "outputs": [
        {
          "output_type": "stream",
          "name": "stdout",
          "text": [
            "\n",
            "Current memory usage: 0.44 MB\n",
            "Peak memory usage: 63.45 MB\n"
          ]
        }
      ]
    },
    {
      "cell_type": "code",
      "source": [
        "#Étape 10 : Prédiction\n",
        "y_pred = rf_model.predict(X_test)\n",
        "\n",
        "# Étape 11 : Évaluation du modèle\n",
        "from sklearn.metrics import confusion_matrix, accuracy_score,classification_report\n",
        "\n",
        "\n",
        " # Evaluate the model directly using y_pred and y_test (no inverse_transform)\n",
        "print(\"Accuracy:\", accuracy_score(y_test, y_pred))\n",
        "print(\"\\nClassification Report:\")\n",
        "print(classification_report(y_test, y_pred))\n",
        "# Confusion Matrix Visualization\n",
        "plt.figure(figsize=(10,7))\n",
        "cm = confusion_matrix(y_test, y_pred)\n",
        "sns.heatmap(cm, annot=True, fmt='d', cmap='Blues')\n",
        "plt.title('Confusion Matrix')\n",
        "plt.ylabel('True Label')\n",
        "plt.xlabel('Predicted Label')\n",
        "plt.tight_layout()\n",
        "plt.show()"
      ],
      "metadata": {
        "colab": {
          "base_uri": "https://localhost:8080/",
          "height": 967
        },
        "id": "antWFoppqlUC",
        "outputId": "b5600993-3ef6-4b9e-9551-a4d4ea2441fe"
      },
      "execution_count": null,
      "outputs": [
        {
          "output_type": "stream",
          "name": "stdout",
          "text": [
            "Accuracy: 0.9576659038901602\n",
            "\n",
            "Classification Report:\n",
            "              precision    recall  f1-score   support\n",
            "\n",
            "           0       1.00      0.94      0.97        31\n",
            "           1       0.96      0.95      0.95       892\n",
            "           2       0.95      0.94      0.95       286\n",
            "           3       0.95      0.97      0.96      1345\n",
            "           4       0.95      0.93      0.94        68\n",
            "\n",
            "    accuracy                           0.96      2622\n",
            "   macro avg       0.96      0.94      0.95      2622\n",
            "weighted avg       0.96      0.96      0.96      2622\n",
            "\n"
          ]
        },
        {
          "output_type": "display_data",
          "data": {
            "text/plain": [
              "<Figure size 1000x700 with 2 Axes>"
            ],
            "image/png": "[encoded data removed]"
          },
          "metadata": {}
        }
      ]
    },
    {
      "cell_type": "code",
      "source": [
        "import pickle\n",
        "\n",
        "# Remplace ‘model’ par rf_model (le nom de ta variable)\n",
        "with open('rf_model.pkl', 'wb') as f:\n",
        "    pickle.dump(rf_model, f)\n",
        "\n",
        "print(\"Modèle enregistré dans rf_100_model.pkl\")\n"
      ],
      "metadata": {
        "colab": {
          "base_uri": "https://localhost:8080/"
        },
        "id": "N3xOo9XCW_tB",
        "outputId": "d154979d-6ada-4d7d-e686-0061f9e995c7"
      },
      "execution_count": null,
      "outputs": [
        {
          "output_type": "stream",
          "name": "stdout",
          "text": [
            "Modèle enregistré dans rf_100_model.pkl\n"
          ]
        }
      ]
    }
  ]
}