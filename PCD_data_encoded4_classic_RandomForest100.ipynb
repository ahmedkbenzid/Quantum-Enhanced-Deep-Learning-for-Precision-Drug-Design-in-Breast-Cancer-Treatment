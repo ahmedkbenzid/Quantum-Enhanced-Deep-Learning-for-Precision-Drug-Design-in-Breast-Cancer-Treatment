{
  "nbformat": 4,
  "nbformat_minor": 0,
  "metadata": {
    "colab": {
      "provenance": [],
      "include_colab_link": true
    },
    "kernelspec": {
      "name": "python3",
      "display_name": "Python 3"
    },
    "language_info": {
      "name": "python"
    }
  },
  "cells": [
    {
      "cell_type": "markdown",
      "metadata": {
        "id": "view-in-github",
        "colab_type": "text"
      },
      "source": [
        "<a href=\"https://colab.research.google.com/github/meryamhzamiensi/Quantum-Enhanced-Deep-Learning-for-Precision-Drug-Design-in-Breast-Cancer-Treatment/blob/ML-models/PCD_data_encoded4_classic_RandomForest100.ipynb\" target=\"_parent\"><img src=\"https://colab.research.google.com/assets/colab-badge.svg\" alt=\"Open In Colab\"/></a>"
      ]
    },
    {
      "cell_type": "code",
      "execution_count": null,
      "metadata": {
        "id": "tkUikoJ-DGRJ",
        "colab": {
          "base_uri": "https://localhost:8080/"
        },
        "outputId": "c0528293-ebac-48bd-872c-533d15268013"
      },
      "outputs": [
        {
          "output_type": "stream",
          "name": "stdout",
          "text": [
            "Collecting pennylane\n",
            "  Downloading PennyLane-0.41.0-py3-none-any.whl.metadata (10 kB)\n",
            "Requirement already satisfied: numpy in /usr/local/lib/python3.11/dist-packages (from pennylane) (2.0.2)\n",
            "Requirement already satisfied: scipy in /usr/local/lib/python3.11/dist-packages (from pennylane) (1.15.2)\n",
            "Requirement already satisfied: networkx in /usr/local/lib/python3.11/dist-packages (from pennylane) (3.4.2)\n",
            "Collecting rustworkx>=0.14.0 (from pennylane)\n",
            "  Downloading rustworkx-0.16.0-cp39-abi3-manylinux_2_17_x86_64.manylinux2014_x86_64.whl.metadata (10 kB)\n",
            "Requirement already satisfied: autograd in /usr/local/lib/python3.11/dist-packages (from pennylane) (1.7.0)\n",
            "Collecting tomlkit (from pennylane)\n",
            "  Downloading tomlkit-0.13.2-py3-none-any.whl.metadata (2.7 kB)\n",
            "Collecting appdirs (from pennylane)\n",
            "  Downloading appdirs-1.4.4-py2.py3-none-any.whl.metadata (9.0 kB)\n",
            "Collecting autoray>=0.6.11 (from pennylane)\n",
            "  Downloading autoray-0.7.1-py3-none-any.whl.metadata (5.8 kB)\n",
            "Requirement already satisfied: cachetools in /usr/local/lib/python3.11/dist-packages (from pennylane) (5.5.2)\n",
            "Collecting pennylane-lightning>=0.41 (from pennylane)\n",
            "  Downloading pennylane_lightning-0.41.0-cp311-cp311-manylinux_2_28_x86_64.whl.metadata (28 kB)\n",
            "Requirement already satisfied: requests in /usr/local/lib/python3.11/dist-packages (from pennylane) (2.32.3)\n",
            "Requirement already satisfied: typing-extensions in /usr/local/lib/python3.11/dist-packages (from pennylane) (4.13.2)\n",
            "Requirement already satisfied: packaging in /usr/local/lib/python3.11/dist-packages (from pennylane) (24.2)\n",
            "Collecting diastatic-malt (from pennylane)\n",
            "  Downloading diastatic_malt-2.15.2-py3-none-any.whl.metadata (2.6 kB)\n",
            "Collecting scipy-openblas32>=0.3.26 (from pennylane-lightning>=0.41->pennylane)\n",
            "  Downloading scipy_openblas32-0.3.29.0.0-py3-none-manylinux_2_17_x86_64.manylinux2014_x86_64.whl.metadata (56 kB)\n",
            "\u001b[2K     \u001b[90m━━━━━━━━━━━━━━━━━━━━━━━━━━━━━━━━━━━━━━━━\u001b[0m \u001b[32m56.1/56.1 kB\u001b[0m \u001b[31m1.9 MB/s\u001b[0m eta \u001b[36m0:00:00\u001b[0m\n",
            "\u001b[?25hRequirement already satisfied: astunparse in /usr/local/lib/python3.11/dist-packages (from diastatic-malt->pennylane) (1.6.3)\n",
            "Requirement already satisfied: gast in /usr/local/lib/python3.11/dist-packages (from diastatic-malt->pennylane) (0.6.0)\n",
            "Requirement already satisfied: termcolor in /usr/local/lib/python3.11/dist-packages (from diastatic-malt->pennylane) (3.0.1)\n",
            "Requirement already satisfied: charset-normalizer<4,>=2 in /usr/local/lib/python3.11/dist-packages (from requests->pennylane) (3.4.1)\n",
            "Requirement already satisfied: idna<4,>=2.5 in /usr/local/lib/python3.11/dist-packages (from requests->pennylane) (3.10)\n",
            "Requirement already satisfied: urllib3<3,>=1.21.1 in /usr/local/lib/python3.11/dist-packages (from requests->pennylane) (2.4.0)\n",
            "Requirement already satisfied: certifi>=2017.4.17 in /usr/local/lib/python3.11/dist-packages (from requests->pennylane) (2025.1.31)\n",
            "Requirement already satisfied: wheel<1.0,>=0.23.0 in /usr/local/lib/python3.11/dist-packages (from astunparse->diastatic-malt->pennylane) (0.45.1)\n",
            "Requirement already satisfied: six<2.0,>=1.6.1 in /usr/local/lib/python3.11/dist-packages (from astunparse->diastatic-malt->pennylane) (1.17.0)\n",
            "Downloading PennyLane-0.41.0-py3-none-any.whl (2.3 MB)\n",
            "\u001b[2K   \u001b[90m━━━━━━━━━━━━━━━━━━━━━━━━━━━━━━━━━━━━━━━━\u001b[0m \u001b[32m2.3/2.3 MB\u001b[0m \u001b[31m24.1 MB/s\u001b[0m eta \u001b[36m0:00:00\u001b[0m\n",
            "\u001b[?25hDownloading autoray-0.7.1-py3-none-any.whl (930 kB)\n",
            "\u001b[2K   \u001b[90m━━━━━━━━━━━━━━━━━━━━━━━━━━━━━━━━━━━━━━━━\u001b[0m \u001b[32m930.8/930.8 kB\u001b[0m \u001b[31m43.0 MB/s\u001b[0m eta \u001b[36m0:00:00\u001b[0m\n",
            "\u001b[?25hDownloading pennylane_lightning-0.41.0-cp311-cp311-manylinux_2_28_x86_64.whl (2.5 MB)\n",
            "\u001b[2K   \u001b[90m━━━━━━━━━━━━━━━━━━━━━━━━━━━━━━━━━━━━━━━━\u001b[0m \u001b[32m2.5/2.5 MB\u001b[0m \u001b[31m42.5 MB/s\u001b[0m eta \u001b[36m0:00:00\u001b[0m\n",
            "\u001b[?25hDownloading rustworkx-0.16.0-cp39-abi3-manylinux_2_17_x86_64.manylinux2014_x86_64.whl (2.1 MB)\n",
            "\u001b[2K   \u001b[90m━━━━━━━━━━━━━━━━━━━━━━━━━━━━━━━━━━━━━━━━\u001b[0m \u001b[32m2.1/2.1 MB\u001b[0m \u001b[31m54.8 MB/s\u001b[0m eta \u001b[36m0:00:00\u001b[0m\n",
            "\u001b[?25hDownloading appdirs-1.4.4-py2.py3-none-any.whl (9.6 kB)\n",
            "Downloading diastatic_malt-2.15.2-py3-none-any.whl (167 kB)\n",
            "\u001b[2K   \u001b[90m━━━━━━━━━━━━━━━━━━━━━━━━━━━━━━━━━━━━━━━━\u001b[0m \u001b[32m167.9/167.9 kB\u001b[0m \u001b[31m14.1 MB/s\u001b[0m eta \u001b[36m0:00:00\u001b[0m\n",
            "\u001b[?25hDownloading tomlkit-0.13.2-py3-none-any.whl (37 kB)\n",
            "Downloading scipy_openblas32-0.3.29.0.0-py3-none-manylinux_2_17_x86_64.manylinux2014_x86_64.whl (8.6 MB)\n",
            "\u001b[2K   \u001b[90m━━━━━━━━━━━━━━━━━━━━━━━━━━━━━━━━━━━━━━━━\u001b[0m \u001b[32m8.6/8.6 MB\u001b[0m \u001b[31m65.7 MB/s\u001b[0m eta \u001b[36m0:00:00\u001b[0m\n",
            "\u001b[?25hInstalling collected packages: appdirs, tomlkit, scipy-openblas32, rustworkx, autoray, diastatic-malt, pennylane-lightning, pennylane\n",
            "Successfully installed appdirs-1.4.4 autoray-0.7.1 diastatic-malt-2.15.2 pennylane-0.41.0 pennylane-lightning-0.41.0 rustworkx-0.16.0 scipy-openblas32-0.3.29.0.0 tomlkit-0.13.2\n"
          ]
        }
      ],
      "source": [
        "# Étape 1 : Importation des bibliothèques\n",
        "!pip install pennylane\n",
        "import pennylane as qml\n",
        "import pandas as pd\n",
        "import numpy as np\n",
        "import matplotlib.pyplot as plt\n",
        "import seaborn as sns\n",
        "from sklearn.ensemble import RandomForestClassifier\n",
        "from sklearn.model_selection import train_test_split\n",
        "from sklearn.metrics import confusion_matrix, accuracy_score\n",
        "from sklearn.metrics import mean_squared_error, r2_score\n",
        "from sklearn.impute import SimpleImputer\n",
        "from sklearn.preprocessing import StandardScaler\n",
        "from sklearn.preprocessing import StandardScaler, LabelEncoder\n",
        "import time\n",
        "import tracemalloc\n",
        "import psutil\n",
        "import os"
      ]
    },
    {
      "cell_type": "code",
      "source": [
        "def track_memory_usage():\n",
        "    \"\"\"\n",
        "    Track memory usage of the current process\n",
        "\n",
        "    Returns:\n",
        "    dict: Memory usage statistics\n",
        "    \"\"\"\n",
        "    process = psutil.Process(os.getpid())\n",
        "    memory_info = process.memory_info()\n",
        "\n",
        "    return {\n",
        "        'rss_mb': memory_info.rss / (1024 * 1024),  # Resident Set Size in MB\n",
        "        'vms_mb': memory_info.vms / (1024 * 1024),  # Virtual Memory Size in MB\n",
        "    }"
      ],
      "metadata": {
        "id": "2LF4mp9EDYLc"
      },
      "execution_count": null,
      "outputs": []
    },
    {
      "cell_type": "code",
      "source": [
        "def calculate_detailed_errors(y_test, y_pred):\n",
        "    \"\"\"\n",
        "    Calculate detailed error metrics\n",
        "\n",
        "    Parameters:\n",
        "    y_test (array): True labels\n",
        "    y_pred (array): Predicted labels\n",
        "\n",
        "    Returns:\n",
        "    dict: Error analysis metrics\n",
        "    \"\"\"\n",
        "     # Convert encoded labels back to drug names\n",
        "    y_test_names = y_test\n",
        "    y_pred_names = y_pred\n",
        "\n",
        "    # Confusion matrix\n",
        "    conf_matrix = confusion_matrix(y_test_names, y_pred_names)\n",
        "\n",
        "    # Detailed error analysis\n",
        "    error_analysis = {\n",
        "        'total_samples': len(y_test),\n",
        "        'misclassified_samples': np.sum(y_test != y_pred),\n",
        "        'misclassification_rate': 1 - accuracy_score(y_test, y_pred),\n",
        "        'confusion_matrix': conf_matrix\n",
        "    }\n",
        "\n",
        "    # Per-drug error analysis\n",
        "    drug_error_details = {}\n",
        "    unique_drugs = np.unique(y_test_names)\n",
        "\n",
        "    for drug in unique_drugs:\n",
        "        drug_mask = (y_test_names == drug)\n",
        "        drug_true = y_test_names[drug_mask]\n",
        "        drug_pred = y_pred_names[drug_mask]\n",
        "\n",
        "        drug_error_details[drug] = {\n",
        "            'total_samples': len(drug_true),\n",
        "            'correct_predictions': np.sum(drug_true == drug_pred),\n",
        "            'incorrect_predictions': np.sum(drug_true != drug_pred),\n",
        "            'accuracy': accuracy_score(drug_true, drug_pred)\n",
        "        }\n",
        "\n",
        "    error_analysis['per_drug_details'] = drug_error_details\n",
        "\n",
        "    return error_analysis"
      ],
      "metadata": {
        "id": "kXLSdvtAT4yZ"
      },
      "execution_count": null,
      "outputs": []
    },
    {
      "cell_type": "code",
      "source": [
        "# Load the dataset\n",
        "breast_cancer_data = pd.read_csv('processed_dataset.csv')"
      ],
      "metadata": {
        "id": "qMW8WUgbDm8v"
      },
      "execution_count": null,
      "outputs": []
    },
    {
      "cell_type": "code",
      "source": [
        "from sklearn.preprocessing import LabelEncoder\n",
        "# 7. Prepare target variable (binned LN_IC50)\n",
        "y = pd.cut(\n",
        "        breast_cancer_data['LN_IC50'],\n",
        "        bins=5,\n",
        "        labels=['very_low', 'low', 'medium', 'high', 'excellent']\n",
        "    )\n",
        "print(\"\\nTarget class distribution:\")\n",
        "print(y.value_counts())\n",
        "\n",
        "    # Encode target labels\n",
        "label_encoder = LabelEncoder()\n",
        "y_encoded = label_encoder.fit_transform(y)\n",
        "\n",
        "# On supprime la colonne LN_IC50 de X\n",
        "X = breast_cancer_data.drop(columns=['LN_IC50'])\n",
        "\n",
        "# Split train/test\n",
        "X_train, X_test, y_train, y_test = train_test_split(\n",
        "    X, y, test_size=0.2, random_state=42, stratify=y\n",
        ")\n",
        "\n",
        "\n",
        "print(f\"\\nFinal dataset shapes:\")\n",
        "print(f\"X_train: {X_train.shape}, y_train: {y_train.shape}\")\n",
        "print(f\"X_test: {X_test.shape}, y_test: {y_test.shape}\")\n"
      ],
      "metadata": {
        "colab": {
          "base_uri": "https://localhost:8080/"
        },
        "id": "Ak4QzZYIcWrJ",
        "outputId": "98ad4a46-9f1d-4507-8873-1851f70ba581"
      },
      "execution_count": null,
      "outputs": [
        {
          "output_type": "stream",
          "name": "stdout",
          "text": [
            "\n",
            "Target class distribution:\n",
            "LN_IC50\n",
            "medium       6726\n",
            "high         4457\n",
            "low          1428\n",
            "very_low      340\n",
            "excellent     155\n",
            "Name: count, dtype: int64\n",
            "\n",
            "Final dataset shapes:\n",
            "X_train: (10484, 503), y_train: (10484,)\n",
            "X_test: (2622, 503), y_test: (2622,)\n"
          ]
        }
      ]
    },
    {
      "cell_type": "code",
      "source": [
        "from sklearn.preprocessing import MinMaxScaler\n",
        "# 1. First ensure proper data scaling\n",
        "scaler = MinMaxScaler(feature_range=(0, np.pi))  # Quantum circuits need angles between 0 and pi\n",
        "X_train_scaled = scaler.fit_transform(X_train)\n",
        "X_test_scaled = scaler.transform(X_test)"
      ],
      "metadata": {
        "id": "Pi4QKL_oMkhb"
      },
      "execution_count": null,
      "outputs": []
    },
    {
      "cell_type": "code",
      "source": [
        "# Set up quantum device (using 10 qubits for this example)\n",
        "n_qubits = 4\n",
        "dev = qml.device('default.qubit', wires=n_qubits)\n",
        "\n",
        "# Define quantum circuit directly\n",
        "@qml.qnode(dev)\n",
        "def quantum_circuit(inputs, weights):\n",
        "    # Encode features into quantum states\n",
        "    for i in range(n_qubits):\n",
        "        qml.RY(np.pi * inputs[i % len(inputs)], wires=i)\n",
        "\n",
        "    # Apply entangling layers\n",
        "    for i in range(n_qubits-1):\n",
        "        qml.CNOT(wires=[i, i+1])\n",
        "\n",
        "    # Apply parameterized rotation gates\n",
        "    for i in range(n_qubits):\n",
        "        qml.RX(weights[i], wires=i)\n",
        "\n",
        "    # Measure all qubits\n",
        "    return [qml.expval(qml.PauliZ(i)) for i in range(n_qubits)]\n"
      ],
      "metadata": {
        "id": "IlmWHSYKLpV7"
      },
      "execution_count": null,
      "outputs": []
    },
    {
      "cell_type": "code",
      "source": [
        "# Initialize quantum weights\n",
        "quantum_weights = np.random.randn(n_qubits)"
      ],
      "metadata": {
        "id": "fYuBUilbLsxN"
      },
      "execution_count": null,
      "outputs": []
    },
    {
      "cell_type": "code",
      "source": [
        "def quantum_transform(X_data):\n",
        "    # Ensure 2D array input\n",
        "    if len(X_data.shape) == 1:\n",
        "        X_data = X_data.reshape(1, -1)\n",
        "\n",
        "    quantum_features = []\n",
        "    for sample in X_data:\n",
        "        # Convert sample to numpy array explicitly\n",
        "        sample = np.array(sample, dtype=np.float32).flatten()\n",
        "        quantum_features.append(quantum_circuit(sample, quantum_weights))\n",
        "\n",
        "    return np.array(quantum_features)\n",
        "\n",
        "# 4. Apply transformation\n",
        "try:\n",
        "    X_train_q = quantum_transform(X_train_scaled)\n",
        "    X_test_q = quantum_transform(X_test_scaled)\n",
        "except Exception as e:\n",
        "    print(f\"Error during quantum transformation: {e}\")"
      ],
      "metadata": {
        "id": "HUpwsFjALs0k"
      },
      "execution_count": null,
      "outputs": []
    },
    {
      "cell_type": "code",
      "source": [
        "# Start memory tracking\n",
        "tracemalloc.start()"
      ],
      "metadata": {
        "id": "Cm0OwxtnDol_"
      },
      "execution_count": null,
      "outputs": []
    },
    {
      "cell_type": "code",
      "source": [
        "# Initial memory snapshot\n",
        "initial_memory = track_memory_usage()\n",
        "print(\"Initial Memory Usage:\")\n",
        "print(f\"RSS: {initial_memory['rss_mb']:.2f} MB\")\n",
        "print(f\"VMS: {initial_memory['vms_mb']:.2f} MB\")"
      ],
      "metadata": {
        "colab": {
          "base_uri": "https://localhost:8080/"
        },
        "id": "VX-Rz-jRD64A",
        "outputId": "a69ed48b-2c28-4d43-9251-ff6721c314ac"
      },
      "execution_count": null,
      "outputs": [
        {
          "output_type": "stream",
          "name": "stdout",
          "text": [
            "Initial Memory Usage:\n",
            "RSS: 616.54 MB\n",
            "VMS: 2162.43 MB\n"
          ]
        }
      ]
    },
    {
      "cell_type": "code",
      "source": [
        "start_time = time.time()"
      ],
      "metadata": {
        "id": "sfSQkzTLDW-m"
      },
      "execution_count": null,
      "outputs": []
    },
    {
      "cell_type": "code",
      "source": [
        "# Étape 9 : Entraînement du modèle Random Forest (classification)\n",
        "from sklearn.ensemble import RandomForestClassifier\n",
        "\n",
        "rf_model = RandomForestClassifier(\n",
        "    n_estimators=100,\n",
        "    class_weight='balanced',\n",
        "    random_state=42,\n",
        "    n_jobs=-1\n",
        ")\n",
        "print(\"\\nTraining Random Forest model...\")\n",
        "rf_model.fit(X_train_q, y_train)\n",
        "print(\"Model training completed.\")\n"
      ],
      "metadata": {
        "colab": {
          "base_uri": "https://localhost:8080/"
        },
        "id": "5sSr2jx3djrt",
        "outputId": "f8ed28be-1ff3-4375-af68-8211d8b424f6"
      },
      "execution_count": null,
      "outputs": [
        {
          "output_type": "stream",
          "name": "stdout",
          "text": [
            "\n",
            "Training Random Forest model...\n",
            "Model training completed.\n"
          ]
        }
      ]
    },
    {
      "cell_type": "code",
      "source": [
        "# Étape 13 : Temps & mémoire\n",
        "end_time = time.time()\n",
        "execution_time = end_time - start_time\n",
        "print(f\"\\nExecution time: {execution_time:.2f} seconds\")\n",
        "\n",
        "final_memory = track_memory_usage()\n",
        "print(\"Final Memory Usage:\")\n",
        "print(f\"RSS: {final_memory['rss_mb']:.2f} MB\")\n",
        "print(f\"VMS: {final_memory['vms_mb']:.2f} MB\")"
      ],
      "metadata": {
        "colab": {
          "base_uri": "https://localhost:8080/"
        },
        "id": "jl0G2ovfq-gi",
        "outputId": "662037b0-311b-405a-9d4a-715e8ef45783"
      },
      "execution_count": null,
      "outputs": [
        {
          "output_type": "stream",
          "name": "stdout",
          "text": [
            "\n",
            "Execution time: 5.58 seconds\n",
            "Final Memory Usage:\n",
            "RSS: 659.13 MB\n",
            "VMS: 2242.43 MB\n"
          ]
        }
      ]
    },
    {
      "cell_type": "code",
      "source": [
        "# Get memory allocation details\n",
        "current, peak = tracemalloc.get_traced_memory()\n",
        "print(f\"\\nCurrent memory usage: {current / 10**6:.2f} MB\")\n",
        "print(f\"Peak memory usage: {peak / 10**6:.2f} MB\")\n",
        "tracemalloc.stop()"
      ],
      "metadata": {
        "colab": {
          "base_uri": "https://localhost:8080/"
        },
        "id": "tYOPXjXx7mvj",
        "outputId": "364dc754-b96f-410d-a36b-a6d2c418803c"
      },
      "execution_count": null,
      "outputs": [
        {
          "output_type": "stream",
          "name": "stdout",
          "text": [
            "\n",
            "Current memory usage: 0.29 MB\n",
            "Peak memory usage: 2.25 MB\n"
          ]
        }
      ]
    },
    {
      "cell_type": "code",
      "source": [
        "#Étape 10 : Prédiction\n",
        "y_pred = rf_model.predict(X_test_q)\n",
        "\n",
        "# Étape 11 : Évaluation du modèle\n",
        "from sklearn.metrics import confusion_matrix, accuracy_score,classification_report\n",
        "\n",
        "\n",
        " # Evaluate the model directly using y_pred and y_test (no inverse_transform)\n",
        "print(\"Accuracy:\", accuracy_score(y_test, y_pred))\n",
        "print(\"\\nClassification Report:\")\n",
        "print(classification_report(y_test, y_pred))\n",
        "# Confusion Matrix Visualization\n",
        "plt.figure(figsize=(10,7))\n",
        "cm = confusion_matrix(y_test, y_pred)\n",
        "sns.heatmap(cm, annot=True, fmt='d', cmap='Blues')\n",
        "plt.title('Confusion Matrix')\n",
        "plt.ylabel('True Label')\n",
        "plt.xlabel('Predicted Label')\n",
        "plt.tight_layout()\n",
        "plt.show()"
      ],
      "metadata": {
        "colab": {
          "base_uri": "https://localhost:8080/",
          "height": 967
        },
        "id": "antWFoppqlUC",
        "outputId": "094ecc42-a1c8-4292-c1f3-f7f64d5215a2"
      },
      "execution_count": null,
      "outputs": [
        {
          "output_type": "stream",
          "name": "stdout",
          "text": [
            "Accuracy: 0.8443935926773455\n",
            "\n",
            "Classification Report:\n",
            "              precision    recall  f1-score   support\n",
            "\n",
            "           0       1.00      0.90      0.95        31\n",
            "           1       0.83      0.86      0.84       892\n",
            "           2       0.85      0.70      0.77       286\n",
            "           3       0.85      0.87      0.86      1345\n",
            "           4       0.91      0.78      0.84        68\n",
            "\n",
            "    accuracy                           0.84      2622\n",
            "   macro avg       0.89      0.82      0.85      2622\n",
            "weighted avg       0.84      0.84      0.84      2622\n",
            "\n"
          ]
        },
        {
          "output_type": "display_data",
          "data": {
            "text/plain": [
              "<Figure size 1000x700 with 2 Axes>"
            ],
            "image/png": "[encoded data removed]"
          },
          "metadata": {}
        }
      ]
    },
    {
      "cell_type": "code",
      "source": [
        "import pickle\n",
        "\n",
        "# Remplace ‘model’ par rf_model (le nom de ta variable)\n",
        "with open('q_data_rf_model.pkl', 'wb') as f:\n",
        "    pickle.dump(rf_model, f)\n",
        "\n",
        "print(\"Modèle enregistré dans rf_100_model.pkl\")\n"
      ],
      "metadata": {
        "colab": {
          "base_uri": "https://localhost:8080/"
        },
        "id": "N3xOo9XCW_tB",
        "outputId": "0d5d74e3-3b07-4ffc-f241-eb085fee916e"
      },
      "execution_count": null,
      "outputs": [
        {
          "output_type": "stream",
          "name": "stdout",
          "text": [
            "Modèle enregistré dans rf_100_model.pkl\n"
          ]
        }
      ]
    }
  ]
}